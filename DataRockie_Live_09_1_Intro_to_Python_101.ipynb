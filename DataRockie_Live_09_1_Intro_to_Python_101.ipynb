{
  "nbformat": 4,
  "nbformat_minor": 0,
  "metadata": {
    "colab": {
      "name": "DataRockie_Live 09.1_Intro to Python 101.ipynb",
      "provenance": [],
      "collapsed_sections": [],
      "authorship_tag": "ABX9TyMTCfetEEo50/R7nUEBaQ1h",
      "include_colab_link": true
    },
    "kernelspec": {
      "name": "python3",
      "display_name": "Python 3"
    },
    "language_info": {
      "name": "python"
    }
  },
  "cells": [
    {
      "cell_type": "markdown",
      "metadata": {
        "id": "view-in-github",
        "colab_type": "text"
      },
      "source": [
        "<a href=\"https://colab.research.google.com/github/Pongpang-2102/programming_lesson/blob/main/DataRockie_Live_09_1_Intro_to_Python_101.ipynb\" target=\"_parent\"><img src=\"https://colab.research.google.com/assets/colab-badge.svg\" alt=\"Open In Colab\"/></a>"
      ]
    },
    {
      "cell_type": "code",
      "execution_count": null,
      "metadata": {
        "colab": {
          "base_uri": "https://localhost:8080/"
        },
        "id": "AS8HyQBHweMU",
        "outputId": "7fd03c39-ea7e-4745-8c76-914725e77fe3"
      },
      "outputs": [
        {
          "output_type": "stream",
          "name": "stdout",
          "text": [
            "Hello World\n",
            "Hello World\n"
          ]
        }
      ],
      "source": [
        "print(\"Hello World\")\n",
        "print('Hello World')"
      ]
    },
    {
      "cell_type": "markdown",
      "source": [
        "ipynb : interactive Python notebook"
      ],
      "metadata": {
        "id": "aae_agVCBuGh"
      }
    },
    {
      "cell_type": "markdown",
      "source": [
        "# Assign Variable"
      ],
      "metadata": {
        "id": "L6hcXgtY8xSU"
      }
    },
    {
      "cell_type": "code",
      "source": [
        "# Create a new variable : Snake case (Lower case for all char)\n",
        "my_name = \"Pongpang\"  # for coding should be have a  white space\n",
        "my_age = 28\n",
        "my_gpa = 3.11\n",
        "my_university = \"SUT\"\n",
        "print(my_name,my_age,my_gpa,my_university)"
      ],
      "metadata": {
        "colab": {
          "base_uri": "https://localhost:8080/"
        },
        "id": "X7OXV6V8xOZE",
        "outputId": "7ca35a29-6c18-446d-9134-3daa9cd2a15a"
      },
      "execution_count": null,
      "outputs": [
        {
          "output_type": "stream",
          "name": "stdout",
          "text": [
            "Pongpang 28 3.11 SUT\n"
          ]
        }
      ]
    },
    {
      "cell_type": "code",
      "source": [
        "# Reassign new value (Overwrite to existing value)\n",
        "my_name = \"Puriwat \"\n",
        "print(my_name)"
      ],
      "metadata": {
        "colab": {
          "base_uri": "https://localhost:8080/"
        },
        "id": "iu0NInHp0u0_",
        "outputId": "bc69ce37-023a-4329-c466-5bf3a9594f12"
      },
      "execution_count": null,
      "outputs": [
        {
          "output_type": "stream",
          "name": "stdout",
          "text": [
            "Puriwat \n"
          ]
        }
      ]
    },
    {
      "cell_type": "markdown",
      "source": [
        "# **Data Type**\n",
        "\n",
        "- int\n",
        "- float \n",
        "- str( string)\n",
        "- bool (boolean)"
      ],
      "metadata": {
        "id": "mxeE8sOd_a7W"
      }
    },
    {
      "cell_type": "code",
      "source": [
        "x = 10\n",
        "type(x)"
      ],
      "metadata": {
        "colab": {
          "base_uri": "https://localhost:8080/"
        },
        "id": "M5TrnslR1PiM",
        "outputId": "4788111e-078e-44f6-f7ef-47ee859043f9"
      },
      "execution_count": null,
      "outputs": [
        {
          "output_type": "execute_result",
          "data": {
            "text/plain": [
              "int"
            ]
          },
          "metadata": {},
          "execution_count": 4
        }
      ]
    },
    {
      "cell_type": "code",
      "source": [
        "x =3.11\n",
        "type(x)"
      ],
      "metadata": {
        "colab": {
          "base_uri": "https://localhost:8080/"
        },
        "id": "93LcvPai1Vtx",
        "outputId": "ca1be201-bb1f-43d1-9101-3b605161668c"
      },
      "execution_count": null,
      "outputs": [
        {
          "output_type": "execute_result",
          "data": {
            "text/plain": [
              "float"
            ]
          },
          "metadata": {},
          "execution_count": 5
        }
      ]
    },
    {
      "cell_type": "code",
      "source": [
        "x = True # or False\n",
        "type(x)"
      ],
      "metadata": {
        "colab": {
          "base_uri": "https://localhost:8080/"
        },
        "id": "J8KnYE5U1aj4",
        "outputId": "2e5f7cb9-44fd-4740-c87f-3a3c3861c96d"
      },
      "execution_count": null,
      "outputs": [
        {
          "output_type": "execute_result",
          "data": {
            "text/plain": [
              "bool"
            ]
          },
          "metadata": {},
          "execution_count": 6
        }
      ]
    },
    {
      "cell_type": "code",
      "source": [
        "# Convert data type\n",
        "y =\"1\"\n",
        "print(type(y))\n",
        "y = int(y)\n",
        "print(y,type(y))"
      ],
      "metadata": {
        "colab": {
          "base_uri": "https://localhost:8080/"
        },
        "id": "TpyIf7vd1gCk",
        "outputId": "62aa0b73-41f3-498d-ebcb-2d32a3d22246"
      },
      "execution_count": null,
      "outputs": [
        {
          "output_type": "stream",
          "name": "stdout",
          "text": [
            "<class 'str'>\n",
            "1 <class 'int'>\n"
          ]
        }
      ]
    },
    {
      "cell_type": "code",
      "source": [
        "z = 0\n",
        "type(z)"
      ],
      "metadata": {
        "colab": {
          "base_uri": "https://localhost:8080/"
        },
        "id": "sQza0F7A12XT",
        "outputId": "b71f5724-a2dd-4706-c912-614076b8728d"
      },
      "execution_count": null,
      "outputs": [
        {
          "output_type": "execute_result",
          "data": {
            "text/plain": [
              "int"
            ]
          },
          "metadata": {},
          "execution_count": 8
        }
      ]
    },
    {
      "cell_type": "code",
      "source": [
        "z=bool(z)  # o = False / 1 = True\n",
        "print(z,type(z))"
      ],
      "metadata": {
        "colab": {
          "base_uri": "https://localhost:8080/"
        },
        "id": "R-AM1bht16gu",
        "outputId": "999b59da-91dc-4312-8742-2b739df01037"
      },
      "execution_count": null,
      "outputs": [
        {
          "output_type": "stream",
          "name": "stdout",
          "text": [
            "False <class 'bool'>\n"
          ]
        }
      ]
    },
    {
      "cell_type": "code",
      "source": [
        "text = \"123\"\n",
        "text = int(text)\n",
        "text = str(text)\n",
        "print(type(text))"
      ],
      "metadata": {
        "colab": {
          "base_uri": "https://localhost:8080/"
        },
        "id": "jBY4madg2BHQ",
        "outputId": "2fdbb53f-d49c-4978-e131-f843d767dc3a"
      },
      "execution_count": null,
      "outputs": [
        {
          "output_type": "stream",
          "name": "stdout",
          "text": [
            "<class 'str'>\n"
          ]
        }
      ]
    },
    {
      "cell_type": "code",
      "source": [
        "# Type Hint\n",
        "my_name: str = \"Pongpang\"  \n",
        "\n",
        "# hint to Python that my_name will be string variable\n",
        "print(my_name)"
      ],
      "metadata": {
        "colab": {
          "base_uri": "https://localhost:8080/"
        },
        "id": "H5vSby8x2Mfv",
        "outputId": "f94652c6-67cb-4d56-bcde-541c3149a924"
      },
      "execution_count": null,
      "outputs": [
        {
          "output_type": "stream",
          "name": "stdout",
          "text": [
            "Pongpang\n"
          ]
        }
      ]
    },
    {
      "cell_type": "code",
      "source": [
        "my_age: int = 28\n",
        "print(my_age,type(my_age))\n",
        "# Only Hint not to be Enforcement"
      ],
      "metadata": {
        "colab": {
          "base_uri": "https://localhost:8080/"
        },
        "id": "Q_25GGRH2hMH",
        "outputId": "bd6d8158-23b2-4d2d-a0fe-c9abb3c21032"
      },
      "execution_count": null,
      "outputs": [
        {
          "output_type": "stream",
          "name": "stdout",
          "text": [
            "28 <class 'int'>\n"
          ]
        }
      ]
    },
    {
      "cell_type": "code",
      "source": [
        "# only hint / not to be enforced\n",
        "my_money1 : str =  1500\n",
        "print(type(my_money1))\n",
        "my_money2 : float =  1500\n",
        "print(type(my_money2))"
      ],
      "metadata": {
        "colab": {
          "base_uri": "https://localhost:8080/"
        },
        "id": "VkyNQoMTB6f1",
        "outputId": "56056dd6-5534-4e9b-9294-51ec53c19655"
      },
      "execution_count": null,
      "outputs": [
        {
          "output_type": "stream",
          "name": "stdout",
          "text": [
            "<class 'int'>\n",
            "<class 'int'>\n"
          ]
        }
      ]
    },
    {
      "cell_type": "code",
      "source": [
        "def add_two_int_number (x:int , y:int)-> int :\n",
        "    return x+y\n",
        "add_two_int_number(5,10)\n",
        "\n",
        "# told python that \n",
        "# x should be int, yshould be int\n",
        "# and finally (x+y) should be int\n"
      ],
      "metadata": {
        "colab": {
          "base_uri": "https://localhost:8080/"
        },
        "id": "03h_TlUX2pmu",
        "outputId": "d5a5af1f-2056-4fa6-982e-69bbaa332c2d"
      },
      "execution_count": null,
      "outputs": [
        {
          "output_type": "execute_result",
          "data": {
            "text/plain": [
              "15"
            ]
          },
          "metadata": {},
          "execution_count": 22
        }
      ]
    },
    {
      "cell_type": "markdown",
      "source": [
        "# Data Structure\n",
        "- List\n",
        "- Tuple\n",
        "- Dictionary\n",
        "- Set"
      ],
      "metadata": {
        "id": "OkKXCIH03QZJ"
      }
    },
    {
      "cell_type": "code",
      "source": [
        "# Creat a new list \n",
        "shopping_list = ['egg','milk','bread']\n",
        "print(shopping_list)\n",
        "\n",
        "# update value in a list \n",
        "shopping_list[0]='beer'\n",
        "print(shopping_list)\n",
        "shopping_list[1]='yoghurt'\n",
        "print(shopping_list)"
      ],
      "metadata": {
        "colab": {
          "base_uri": "https://localhost:8080/"
        },
        "id": "uK-3YiOp3g08",
        "outputId": "c780dd6d-dce8-436f-df51-b147a38afef4"
      },
      "execution_count": null,
      "outputs": [
        {
          "output_type": "stream",
          "name": "stdout",
          "text": [
            "['egg', 'milk', 'bread']\n",
            "['beer', 'milk', 'bread']\n",
            "['beer', 'yoghurt', 'bread']\n"
          ]
        }
      ]
    },
    {
      "cell_type": "code",
      "source": [
        "# List Method, add new item at the end of list\n",
        "shopping_list.append('tomato')"
      ],
      "metadata": {
        "id": "ptlvobaq3xE-"
      },
      "execution_count": null,
      "outputs": []
    },
    {
      "cell_type": "code",
      "source": [
        "print(shopping_list)\n",
        "shopping_list.append('lemon')"
      ],
      "metadata": {
        "colab": {
          "base_uri": "https://localhost:8080/"
        },
        "id": "Mxj1eZ0O45YN",
        "outputId": "20cb4572-d8d9-4030-cffe-814dc6e1816e"
      },
      "execution_count": null,
      "outputs": [
        {
          "output_type": "stream",
          "name": "stdout",
          "text": [
            "['beer', 'yoghurt', 'bread', 'tomato', 'lemon']\n"
          ]
        }
      ]
    },
    {
      "cell_type": "code",
      "source": [
        "sp_shopping_list = shopping_list + ['omlet','book']   # เอา  2 list มารวมกัน\n",
        "print(sp_shopping_list)"
      ],
      "metadata": {
        "colab": {
          "base_uri": "https://localhost:8080/"
        },
        "id": "uJUFxSWPL8Yy",
        "outputId": "82901fe5-43be-4853-e38f-552e2b1bb5f5"
      },
      "execution_count": null,
      "outputs": [
        {
          "output_type": "stream",
          "name": "stdout",
          "text": [
            "['beer', 'yoghurt', 'bread', 'tomato', 'lemon', 'lemon', 'omlet', 'book']\n"
          ]
        }
      ]
    },
    {
      "cell_type": "code",
      "source": [
        "# We will use len() function to count list menber\n",
        "len(shopping_list)"
      ],
      "metadata": {
        "colab": {
          "base_uri": "https://localhost:8080/"
        },
        "id": "EAyDjwfp480o",
        "outputId": "c5b6238d-ffc9-48b5-eae2-ad13cd087ee2"
      },
      "execution_count": null,
      "outputs": [
        {
          "output_type": "execute_result",
          "data": {
            "text/plain": [
              "7"
            ]
          },
          "metadata": {},
          "execution_count": 42
        }
      ]
    },
    {
      "cell_type": "code",
      "source": [
        "shopping_list[0:3]\n",
        "# up to but not included for the last index"
      ],
      "metadata": {
        "colab": {
          "base_uri": "https://localhost:8080/"
        },
        "id": "cV8qRoek5HLa",
        "outputId": "33949238-9db3-471a-91d9-4f18efb805f8"
      },
      "execution_count": null,
      "outputs": [
        {
          "output_type": "execute_result",
          "data": {
            "text/plain": [
              "['beer', 'yoghurt', 'bread']"
            ]
          },
          "metadata": {},
          "execution_count": 34
        }
      ]
    },
    {
      "cell_type": "code",
      "source": [
        "shopping_list[-1]"
      ],
      "metadata": {
        "colab": {
          "base_uri": "https://localhost:8080/",
          "height": 35
        },
        "id": "3hnzdYM85Zag",
        "outputId": "11a07608-b06a-4395-8f9d-4b8372548fb4"
      },
      "execution_count": null,
      "outputs": [
        {
          "output_type": "execute_result",
          "data": {
            "text/plain": [
              "'lemon'"
            ],
            "application/vnd.google.colaboratory.intrinsic+json": {
              "type": "string"
            }
          },
          "metadata": {},
          "execution_count": 41
        }
      ]
    },
    {
      "cell_type": "code",
      "source": [
        "shopping_list[-3]"
      ],
      "metadata": {
        "colab": {
          "base_uri": "https://localhost:8080/",
          "height": 35
        },
        "id": "5pVN4oaj5ptW",
        "outputId": "5b11f385-666c-4255-b40c-0622f814b408"
      },
      "execution_count": null,
      "outputs": [
        {
          "output_type": "execute_result",
          "data": {
            "text/plain": [
              "'lemon'"
            ],
            "application/vnd.google.colaboratory.intrinsic+json": {
              "type": "string"
            }
          },
          "metadata": {},
          "execution_count": 40
        }
      ]
    },
    {
      "cell_type": "code",
      "source": [
        "# remove bread , which is 2nd index (Item number 3) in shopping_list\n",
        "\n",
        "sp_shopping_list.pop(2)\n",
        "print(sp_shopping_list)\n",
        "\n",
        "# list is ab mutable object (can be updated)"
      ],
      "metadata": {
        "id": "KyJ0Gx5f5tvZ",
        "colab": {
          "base_uri": "https://localhost:8080/"
        },
        "outputId": "acf23e0c-2d2f-42f0-d33f-1300fc925cc7"
      },
      "execution_count": null,
      "outputs": [
        {
          "output_type": "stream",
          "name": "stdout",
          "text": [
            "['beer', 'yoghurt', 'lemon', 'lemon', 'omlet', 'book']\n"
          ]
        }
      ]
    },
    {
      "cell_type": "code",
      "source": [
        "# list is a mutable object\n",
        "print(sp_shopping_list)\n",
        "sp_shopping_list[0] = 'Heineken'\n",
        "print(sp_shopping_list)"
      ],
      "metadata": {
        "colab": {
          "base_uri": "https://localhost:8080/"
        },
        "id": "9cgxA4WWNkQe",
        "outputId": "50ab388f-6676-471f-cedb-7e0f1e8060c6"
      },
      "execution_count": null,
      "outputs": [
        {
          "output_type": "stream",
          "name": "stdout",
          "text": [
            "['beer', 'yoghurt', 'lemon', 'lemon', 'omlet', 'book']\n",
            "['Heineken', 'yoghurt', 'lemon', 'lemon', 'omlet', 'book']\n"
          ]
        }
      ]
    },
    {
      "cell_type": "code",
      "source": [
        "# tuple is immutable\n",
        "shopping_tuple = ('egg','milk','bread','egg')\n",
        "print(shopping_tuple)\n"
      ],
      "metadata": {
        "id": "4uzlFXqp7Af8",
        "colab": {
          "base_uri": "https://localhost:8080/"
        },
        "outputId": "4d109ba4-d901-4be6-8dae-6f8e555470e8"
      },
      "execution_count": null,
      "outputs": [
        {
          "output_type": "stream",
          "name": "stdout",
          "text": [
            "('egg', 'milk', 'bread', 'egg')\n"
          ]
        }
      ]
    },
    {
      "cell_type": "code",
      "source": [
        "print(len(shopping_tuple))\n"
      ],
      "metadata": {
        "colab": {
          "base_uri": "https://localhost:8080/"
        },
        "id": "Lkph4Yan7NtI",
        "outputId": "36ebde11-60af-4e36-adf7-48b582855ef5"
      },
      "execution_count": null,
      "outputs": [
        {
          "output_type": "stream",
          "name": "stdout",
          "text": [
            "4\n"
          ]
        }
      ]
    },
    {
      "cell_type": "code",
      "source": [
        "# In a tuple , we cannnot update value in a tuple\n",
        "print(shopping_tuple[0])\n",
        "shopping_tuple[0] = 'beer'"
      ],
      "metadata": {
        "colab": {
          "base_uri": "https://localhost:8080/",
          "height": 217
        },
        "id": "gmyhsl4ePBRw",
        "outputId": "199ff0f5-978d-4ade-8a16-9c7fe04c3c63"
      },
      "execution_count": null,
      "outputs": [
        {
          "output_type": "stream",
          "name": "stdout",
          "text": [
            "egg\n"
          ]
        },
        {
          "output_type": "error",
          "ename": "TypeError",
          "evalue": "ignored",
          "traceback": [
            "\u001b[0;31m---------------------------------------------------------------------------\u001b[0m",
            "\u001b[0;31mTypeError\u001b[0m                                 Traceback (most recent call last)",
            "\u001b[0;32m<ipython-input-7-c09cf9619c61>\u001b[0m in \u001b[0;36m<module>\u001b[0;34m()\u001b[0m\n\u001b[1;32m      1\u001b[0m \u001b[0;31m# In a tuple , we cannnot update value in a tuple\u001b[0m\u001b[0;34m\u001b[0m\u001b[0;34m\u001b[0m\u001b[0;34m\u001b[0m\u001b[0m\n\u001b[1;32m      2\u001b[0m \u001b[0mprint\u001b[0m\u001b[0;34m(\u001b[0m\u001b[0mshopping_tuple\u001b[0m\u001b[0;34m[\u001b[0m\u001b[0;36m0\u001b[0m\u001b[0;34m]\u001b[0m\u001b[0;34m)\u001b[0m\u001b[0;34m\u001b[0m\u001b[0;34m\u001b[0m\u001b[0m\n\u001b[0;32m----> 3\u001b[0;31m \u001b[0mshopping_tuple\u001b[0m\u001b[0;34m[\u001b[0m\u001b[0;36m0\u001b[0m\u001b[0;34m]\u001b[0m \u001b[0;34m=\u001b[0m \u001b[0;34m'beer'\u001b[0m\u001b[0;34m\u001b[0m\u001b[0;34m\u001b[0m\u001b[0m\n\u001b[0m",
            "\u001b[0;31mTypeError\u001b[0m: 'tuple' object does not support item assignment"
          ]
        }
      ]
    },
    {
      "cell_type": "code",
      "source": [
        "shopping_tuple[0:]"
      ],
      "metadata": {
        "colab": {
          "base_uri": "https://localhost:8080/"
        },
        "id": "xb2Dg3Lk7ejs",
        "outputId": "7bc581f6-bb50-4aca-9730-d0d52b630e39"
      },
      "execution_count": null,
      "outputs": [
        {
          "output_type": "execute_result",
          "data": {
            "text/plain": [
              "('egg', 'milk', 'bread', 'egg')"
            ]
          },
          "metadata": {},
          "execution_count": 8
        }
      ]
    },
    {
      "cell_type": "code",
      "source": [
        "# using count() nethod to count Q'ty of 'egg'\n",
        "\n",
        "shopping_tuple.count('egg')"
      ],
      "metadata": {
        "colab": {
          "base_uri": "https://localhost:8080/"
        },
        "id": "OyCy9Z9g7lm9",
        "outputId": "ceed71de-00c4-42cc-fe8d-522ae2e5b12e"
      },
      "execution_count": null,
      "outputs": [
        {
          "output_type": "execute_result",
          "data": {
            "text/plain": [
              "2"
            ]
          },
          "metadata": {},
          "execution_count": 57
        }
      ]
    },
    {
      "cell_type": "code",
      "source": [
        "# set isd another built-in data structure in Python\n",
        "shopping_tuple\n"
      ],
      "metadata": {
        "colab": {
          "base_uri": "https://localhost:8080/"
        },
        "id": "lwcj3OkD7pX6",
        "outputId": "8cd28c51-0c18-462d-94a4-7a8321848261"
      },
      "execution_count": null,
      "outputs": [
        {
          "output_type": "execute_result",
          "data": {
            "text/plain": [
              "('egg', 'milk', 'bread', 'egg')"
            ]
          },
          "metadata": {},
          "execution_count": 9
        }
      ]
    },
    {
      "cell_type": "code",
      "source": [
        "# create a  new set\n",
        "shopping_set =set(shopping_tuple)"
      ],
      "metadata": {
        "id": "oPrVLFjn8Hun"
      },
      "execution_count": null,
      "outputs": []
    },
    {
      "cell_type": "code",
      "source": [
        "print(shopping_set)"
      ],
      "metadata": {
        "colab": {
          "base_uri": "https://localhost:8080/"
        },
        "id": "Jd7Yx3Ek8NMB",
        "outputId": "18593a87-9492-48a3-c0bf-975c273e6c7f"
      },
      "execution_count": null,
      "outputs": [
        {
          "output_type": "stream",
          "name": "stdout",
          "text": [
            "{'milk', 'egg', 'bread'}\n"
          ]
        }
      ]
    },
    {
      "cell_type": "code",
      "source": [
        "my_set = {'Aan','Zue','Ink','Zue'}\n",
        "print(my_set)\n",
        "my_set = {'Aan','Zue','Ink','ZUE'}\n",
        "print(my_set)\n"
      ],
      "metadata": {
        "colab": {
          "base_uri": "https://localhost:8080/"
        },
        "id": "bHWMAw678PV7",
        "outputId": "7a463d60-a6c1-4c9f-a309-a9c74edc106a"
      },
      "execution_count": null,
      "outputs": [
        {
          "output_type": "stream",
          "name": "stdout",
          "text": [
            "{'Ink', 'Zue', 'Aan'}\n",
            "{'ZUE', 'Ink', 'Zue', 'Aan'}\n"
          ]
        }
      ]
    },
    {
      "cell_type": "code",
      "source": [
        "# Dictionary the final data structure\n",
        "# Use Key-Value Pair\n",
        "\n",
        "# key must be  immutable\n",
        "\n",
        "customer ={\n",
        "    \"id\" : 1,\n",
        "    \"fname\" : \"David\",\n",
        "    \"lname\" : \"Beckham\",\n",
        "    \"nationality\" : \"English\"\n",
        "    }"
      ],
      "metadata": {
        "id": "V7wMz6m08gQs"
      },
      "execution_count": null,
      "outputs": []
    },
    {
      "cell_type": "code",
      "source": [
        "# get value from dictionary\n",
        "customer['fname']"
      ],
      "metadata": {
        "colab": {
          "base_uri": "https://localhost:8080/",
          "height": 35
        },
        "id": "SWAVrQeWNjD4",
        "outputId": "01d3f404-78da-43aa-e2ac-9a97ea23d708"
      },
      "execution_count": null,
      "outputs": [
        {
          "output_type": "execute_result",
          "data": {
            "text/plain": [
              "'David'"
            ],
            "application/vnd.google.colaboratory.intrinsic+json": {
              "type": "string"
            }
          },
          "metadata": {},
          "execution_count": 12
        }
      ]
    },
    {
      "cell_type": "code",
      "source": [
        "# Get value from dictionary\n",
        "customer['nationality']"
      ],
      "metadata": {
        "colab": {
          "base_uri": "https://localhost:8080/",
          "height": 35
        },
        "id": "g_E5dXBC9OBJ",
        "outputId": "71ce712e-b353-4b9e-e4c1-4187354b7d17"
      },
      "execution_count": null,
      "outputs": [
        {
          "output_type": "execute_result",
          "data": {
            "text/plain": [
              "'English'"
            ],
            "application/vnd.google.colaboratory.intrinsic+json": {
              "type": "string"
            }
          },
          "metadata": {},
          "execution_count": 13
        }
      ]
    },
    {
      "cell_type": "code",
      "source": [
        "# updating nationality from English to British\n",
        "customer['nationality']= 'British'\n",
        "print(customer)"
      ],
      "metadata": {
        "colab": {
          "base_uri": "https://localhost:8080/"
        },
        "id": "CkkZHepX9SxT",
        "outputId": "a0517832-25cf-4054-c953-07d5e0030ec7"
      },
      "execution_count": null,
      "outputs": [
        {
          "output_type": "stream",
          "name": "stdout",
          "text": [
            "{'id': 1, 'fname': 'David', 'lname': 'Beckham', 'nationality': 'British'}\n"
          ]
        }
      ]
    },
    {
      "cell_type": "code",
      "source": [
        "# How to Create a new key\n",
        "customer ['team'] = \"Manchester United\"\n",
        "print(customer)"
      ],
      "metadata": {
        "colab": {
          "base_uri": "https://localhost:8080/"
        },
        "id": "esCr8vA59hws",
        "outputId": "2878cd7a-16fd-4ced-e448-6d89af358d2f"
      },
      "execution_count": null,
      "outputs": [
        {
          "output_type": "stream",
          "name": "stdout",
          "text": [
            "{'id': 1, 'fname': 'David', 'lname': 'Beckham', 'nationality': 'British', 'team': 'Manchester United'}\n"
          ]
        }
      ]
    },
    {
      "cell_type": "code",
      "source": [
        "# adding customer info Name : beckham with his favorite movies\n",
        "customer['fav_movies']= ['Batman','Superman','Marvel']\n",
        "print(customer)"
      ],
      "metadata": {
        "colab": {
          "base_uri": "https://localhost:8080/"
        },
        "id": "gMVvCHMk9s6K",
        "outputId": "0e9a7d4b-48fc-4e30-a36a-0eb08d0583a6"
      },
      "execution_count": null,
      "outputs": [
        {
          "output_type": "stream",
          "name": "stdout",
          "text": [
            "{'id': 1, 'fname': 'David', 'lname': 'Beckham', 'nationality': 'British', 'fav_movies': ['Batman', 'Superman', 'Marvel']}\n"
          ]
        }
      ]
    },
    {
      "cell_type": "code",
      "source": [
        "# How to find the first Beckham favorite movies in list\n",
        "print(customer['fav_movies'][0])"
      ],
      "metadata": {
        "colab": {
          "base_uri": "https://localhost:8080/"
        },
        "id": "CdCITTL_P5za",
        "outputId": "e520e799-2466-4115-b5ee-b575461016e4"
      },
      "execution_count": null,
      "outputs": [
        {
          "output_type": "stream",
          "name": "stdout",
          "text": [
            "Batman\n"
          ]
        }
      ]
    },
    {
      "cell_type": "code",
      "source": [
        "# How to find the last movies in Beckham's fav_movies without length data\n",
        "customer['fav_movies'][-1]"
      ],
      "metadata": {
        "colab": {
          "base_uri": "https://localhost:8080/",
          "height": 35
        },
        "id": "IRM1C7g3-MFg",
        "outputId": "93358c4e-1f21-4a05-b08f-c4fdce3fe5d8"
      },
      "execution_count": null,
      "outputs": [
        {
          "output_type": "execute_result",
          "data": {
            "text/plain": [
              "'Marvel'"
            ],
            "application/vnd.google.colaboratory.intrinsic+json": {
              "type": "string"
            }
          },
          "metadata": {},
          "execution_count": 73
        }
      ]
    },
    {
      "cell_type": "code",
      "source": [
        "customer['fav_movies'][-2]"
      ],
      "metadata": {
        "colab": {
          "base_uri": "https://localhost:8080/",
          "height": 35
        },
        "id": "NLsTbxgMRRGn",
        "outputId": "35508924-8415-48b5-dbbf-e46045709e12"
      },
      "execution_count": null,
      "outputs": [
        {
          "output_type": "execute_result",
          "data": {
            "text/plain": [
              "'Superman'"
            ],
            "application/vnd.google.colaboratory.intrinsic+json": {
              "type": "string"
            }
          },
          "metadata": {},
          "execution_count": 19
        }
      ]
    },
    {
      "cell_type": "code",
      "source": [
        "customer  # unordered"
      ],
      "metadata": {
        "colab": {
          "base_uri": "https://localhost:8080/"
        },
        "id": "MFNvSJk_R0hd",
        "outputId": "cccb5be3-b545-4986-81f5-8bd37096401f"
      },
      "execution_count": null,
      "outputs": [
        {
          "output_type": "execute_result",
          "data": {
            "text/plain": [
              "{'fav_movies': ['Batman', 'Superman', 'Marvel'],\n",
              " 'fname': 'David',\n",
              " 'id': 1,\n",
              " 'lname': 'Beckham',\n",
              " 'nationality': 'British'}"
            ]
          },
          "metadata": {},
          "execution_count": 22
        }
      ]
    },
    {
      "cell_type": "code",
      "source": [
        "print(customer) #ordered (from k1:v1 , k2:v2 ........)"
      ],
      "metadata": {
        "colab": {
          "base_uri": "https://localhost:8080/"
        },
        "id": "yd1aDpetRXSN",
        "outputId": "86fa6c2b-eeb2-4646-a3bd-6952328d2dc6"
      },
      "execution_count": null,
      "outputs": [
        {
          "output_type": "stream",
          "name": "stdout",
          "text": [
            "{'id': 1, 'fname': 'David', 'lname': 'Beckham', 'nationality': 'British', 'fav_movies': ['Batman', 'Superman', 'Marvel']}\n"
          ]
        }
      ]
    },
    {
      "cell_type": "code",
      "source": [
        "# How to delete the specific key in fav_movie\n",
        "customer.pop('fav_movies')"
      ],
      "metadata": {
        "colab": {
          "base_uri": "https://localhost:8080/"
        },
        "id": "-LldewNr-TUc",
        "outputId": "e4317e40-951e-4298-d4e6-10c8fa920b5f"
      },
      "execution_count": null,
      "outputs": [
        {
          "output_type": "execute_result",
          "data": {
            "text/plain": [
              "['Batman', 'Superman', 'Marvel']"
            ]
          },
          "metadata": {},
          "execution_count": 75
        }
      ]
    },
    {
      "cell_type": "code",
      "source": [
        "# check whether key is in a dict\n",
        "'team' in customer  # key -team- is not found"
      ],
      "metadata": {
        "colab": {
          "base_uri": "https://localhost:8080/"
        },
        "id": "oaIPm5cn--9f",
        "outputId": "7567c9bb-6e7f-4754-f712-6653bbe385ec"
      },
      "execution_count": null,
      "outputs": [
        {
          "output_type": "execute_result",
          "data": {
            "text/plain": [
              "False"
            ]
          },
          "metadata": {},
          "execution_count": 23
        }
      ]
    },
    {
      "cell_type": "code",
      "source": [
        "'fav_movies' in customer"
      ],
      "metadata": {
        "colab": {
          "base_uri": "https://localhost:8080/"
        },
        "id": "RCXBnRdC_KBR",
        "outputId": "cb9ada92-36d0-4d1e-92db-6c038719ff1a"
      },
      "execution_count": null,
      "outputs": [
        {
          "output_type": "execute_result",
          "data": {
            "text/plain": [
              "True"
            ]
          },
          "metadata": {},
          "execution_count": 24
        }
      ]
    },
    {
      "cell_type": "code",
      "source": [
        "print(customer)"
      ],
      "metadata": {
        "colab": {
          "base_uri": "https://localhost:8080/"
        },
        "id": "zjGmRpD__Nw5",
        "outputId": "66eb8a35-34bd-4a83-821f-5ae7036e5160"
      },
      "execution_count": null,
      "outputs": [
        {
          "output_type": "stream",
          "name": "stdout",
          "text": [
            "{'id': 1, 'fname': 'David', 'lname': 'Beckham', 'nationality': 'British', 'team': 'Manchester United'}\n"
          ]
        }
      ]
    },
    {
      "cell_type": "code",
      "source": [
        "del customer['fname']"
      ],
      "metadata": {
        "id": "ddFxFZv1_Pq1"
      },
      "execution_count": null,
      "outputs": []
    },
    {
      "cell_type": "code",
      "source": [
        "print(customer)"
      ],
      "metadata": {
        "colab": {
          "base_uri": "https://localhost:8080/"
        },
        "id": "T_GKo7_-_WtY",
        "outputId": "61939db9-72e7-4aba-f81c-84af60edf042"
      },
      "execution_count": null,
      "outputs": [
        {
          "output_type": "stream",
          "name": "stdout",
          "text": [
            "{'id': 1, 'lname': 'Beckham', 'nationality': 'British', 'team': 'Manchester United'}\n"
          ]
        }
      ]
    },
    {
      "cell_type": "markdown",
      "source": [
        "# Control Flow\n",
        "1. if-else\n",
        "2. for Loop\n",
        "3. While Loop"
      ],
      "metadata": {
        "id": "S-XfTlH8_gH4"
      }
    },
    {
      "cell_type": "code",
      "source": [
        "# if else\n",
        "score = 70\n",
        "\n",
        "if score > 80:\n",
        "    print(\"pass\")\n",
        "else :\n",
        "    print('Failed')"
      ],
      "metadata": {
        "colab": {
          "base_uri": "https://localhost:8080/"
        },
        "id": "mZdCqq4-_lvi",
        "outputId": "c1b4f7af-23e9-452d-bff1-3c9f3cf62338"
      },
      "execution_count": null,
      "outputs": [
        {
          "output_type": "stream",
          "name": "stdout",
          "text": [
            "Failed\n"
          ]
        }
      ]
    },
    {
      "cell_type": "code",
      "source": [
        "# for Loop + if else\n",
        "scores = [85,90 ,65,60,82]\n",
        "count_passed = 0\n",
        "count_failed = 0\n",
        "\n",
        "grades = [] # empty list\n",
        "\n",
        "# สำหรับ score ของนักเรียนแต่ละคนที่อยู่ใน [score]\n",
        "for score in scores:\n",
        "    if score > 80 :\n",
        "        grades.append(\"Passed\")\n",
        "        count_passed +=1\n",
        "\n",
        "    else:\n",
        "        grades.append(\"Failed\")\n",
        "        count_failed +=1\n",
        "\n",
        "print(grades)\n",
        "print(\"Student with exam passed : \",count_passed,\"people\")\n",
        "print(\"Student with exam failed : \",count_failed,\"people\")"
      ],
      "metadata": {
        "colab": {
          "base_uri": "https://localhost:8080/"
        },
        "id": "kBNex4NNAdwM",
        "outputId": "103931e0-2e11-4012-8a96-f5ff38ec3bfe"
      },
      "execution_count": null,
      "outputs": [
        {
          "output_type": "stream",
          "name": "stdout",
          "text": [
            "['Passed', 'Passed', 'Failed', 'Failed', 'Passed']\n",
            "Student with exam passed :  3 people\n",
            "Student with exam failed :  2 people\n"
          ]
        }
      ]
    },
    {
      "cell_type": "code",
      "source": [
        "# while loop\n",
        "# Continuous running and be stopped at False status\n",
        "\n",
        "count = 0\n",
        "while (count<5) :\n",
        "    #count+=1\n",
        "    print('Hello , count = ', count)\n",
        "    count+=1  #add 1 to count variable"
      ],
      "metadata": {
        "colab": {
          "base_uri": "https://localhost:8080/"
        },
        "id": "-rFn4bipBejW",
        "outputId": "3852db19-950f-4750-873e-6415244211e9"
      },
      "execution_count": null,
      "outputs": [
        {
          "output_type": "stream",
          "name": "stdout",
          "text": [
            "Hello , count =  0\n",
            "Hello , count =  1\n",
            "Hello , count =  2\n",
            "Hello , count =  3\n",
            "Hello , count =  4\n"
          ]
        }
      ]
    },
    {
      "cell_type": "markdown",
      "source": [
        "# Function"
      ],
      "metadata": {
        "id": "bRbxcbf3D_R0"
      }
    },
    {
      "cell_type": "code",
      "source": [
        "# Create a new function\n",
        " \n",
        "def  greeting():\n",
        "    print(\"Hello World\")\n",
        "    print(\"Python is Very Easy\")\n",
        "    print(\"Python is Super Fun\")\n",
        "\n",
        "greeting()\n"
      ],
      "metadata": {
        "colab": {
          "base_uri": "https://localhost:8080/"
        },
        "id": "QgKNYH0REBpO",
        "outputId": "3c346263-7318-444b-e0f8-ca94496b57b1"
      },
      "execution_count": null,
      "outputs": [
        {
          "output_type": "stream",
          "name": "stdout",
          "text": [
            "Hello World\n",
            "Python is Very Easy\n",
            "Python is Super Fun\n"
          ]
        }
      ]
    },
    {
      "cell_type": "code",
      "source": [
        "def greeting_user1(name :str)-> str :  \n",
        "    return \"hello \"+ name + \" how are you ?\"\n",
        "\n",
        "# ตัวอย่างนี้ จะเป็นการใช้ function type hint เป็นการใบ้ python ว่า input name ควรจะเป็น str"
      ],
      "metadata": {
        "id": "Cmo5qDrPEN7-"
      },
      "execution_count": null,
      "outputs": []
    },
    {
      "cell_type": "code",
      "source": [
        "def greeting_user2(name) :  \n",
        "    return \"hello \"+ name + \" how are you ?\""
      ],
      "metadata": {
        "id": "CtTEddAFmXOW"
      },
      "execution_count": null,
      "outputs": []
    },
    {
      "cell_type": "code",
      "source": [
        "greeting_user1(name=\"Pongpang\")\n"
      ],
      "metadata": {
        "colab": {
          "base_uri": "https://localhost:8080/",
          "height": 35
        },
        "id": "0RM4BfKbEn_u",
        "outputId": "153048fe-ca1c-47fc-e39d-b576775f3a6e"
      },
      "execution_count": null,
      "outputs": [
        {
          "output_type": "execute_result",
          "data": {
            "text/plain": [
              "'hello Pongpang how are you ?'"
            ],
            "application/vnd.google.colaboratory.intrinsic+json": {
              "type": "string"
            }
          },
          "metadata": {},
          "execution_count": 48
        }
      ]
    },
    {
      "cell_type": "code",
      "source": [
        "greeting_user2('Pongpang')"
      ],
      "metadata": {
        "colab": {
          "base_uri": "https://localhost:8080/",
          "height": 35
        },
        "id": "anz4Z2Plmp8v",
        "outputId": "6ff187b9-3d15-43e8-bb70-aa099c002eae"
      },
      "execution_count": null,
      "outputs": [
        {
          "output_type": "execute_result",
          "data": {
            "text/plain": [
              "'hello Pongpang how are you ?'"
            ],
            "application/vnd.google.colaboratory.intrinsic+json": {
              "type": "string"
            }
          },
          "metadata": {},
          "execution_count": 47
        }
      ]
    },
    {
      "cell_type": "code",
      "source": [
        "result=greeting_user1(name=\"Pongpang\")\n",
        "result"
      ],
      "metadata": {
        "colab": {
          "base_uri": "https://localhost:8080/",
          "height": 35
        },
        "id": "nAkFiguFEsLP",
        "outputId": "d106f5fd-ac1a-460f-e940-59ec8bf6ab16"
      },
      "execution_count": null,
      "outputs": [
        {
          "output_type": "execute_result",
          "data": {
            "text/plain": [
              "'hello Pongpang how are you ?'"
            ],
            "application/vnd.google.colaboratory.intrinsic+json": {
              "type": "string"
            }
          },
          "metadata": {},
          "execution_count": 49
        }
      ]
    },
    {
      "cell_type": "code",
      "source": [
        "# function for give grade to each student\n",
        "# function is reusable\n",
        "def grading(scores): \n",
        "    \"\"\"Give grade to a list of score value for students\"\"\"     # doc_string\n",
        "    result=[]\n",
        "    for score in scores:\n",
        "        if score>80:\n",
        "            result.append(\"Pass\")\n",
        "        else :\n",
        "            result.append(\"failed\")\n",
        "    return result      # เมื่อไหร่ที่ Python เจอคำว่า return มันจะเลิกทำงานต่อ (terminate) ทันที\n",
        "\n",
        "result =grading([85,90 ,26,100,67])\n",
        "print(result)\n",
        "\n",
        "\n",
        "\n",
        "\n",
        "\n",
        "\n"
      ],
      "metadata": {
        "colab": {
          "base_uri": "https://localhost:8080/"
        },
        "id": "kTjAjuy0E-G7",
        "outputId": "d6257bcc-3e91-4f84-c7a0-c7a57e325e0d"
      },
      "execution_count": null,
      "outputs": [
        {
          "output_type": "stream",
          "name": "stdout",
          "text": [
            "['Pass', 'Pass', 'failed', 'Pass', 'failed']\n"
          ]
        }
      ]
    }
  ]
}