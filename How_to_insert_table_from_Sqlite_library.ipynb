{
  "nbformat": 4,
  "nbformat_minor": 0,
  "metadata": {
    "colab": {
      "name": "How to insert table from Sqlite library.ipynb",
      "provenance": [],
      "collapsed_sections": [],
      "authorship_tag": "ABX9TyOsQvpJGvbsvOtbrT8vKo5U",
      "include_colab_link": true
    },
    "kernelspec": {
      "name": "python3",
      "display_name": "Python 3"
    },
    "language_info": {
      "name": "python"
    }
  },
  "cells": [
    {
      "cell_type": "markdown",
      "metadata": {
        "id": "view-in-github",
        "colab_type": "text"
      },
      "source": [
        "<a href=\"https://colab.research.google.com/github/Pongpang-2102/programming_lesson/blob/main/How_to_insert_table_from_Sqlite_library.ipynb\" target=\"_parent\"><img src=\"https://colab.research.google.com/assets/colab-badge.svg\" alt=\"Open In Colab\"/></a>"
      ]
    },
    {
      "cell_type": "code",
      "execution_count": null,
      "metadata": {
        "id": "qqBaru473vWq"
      },
      "outputs": [],
      "source": [
        "import sqlite3"
      ]
    },
    {
      "cell_type": "code",
      "source": [
        "import pandas as pd"
      ],
      "metadata": {
        "id": "8gzrxU534Qtb"
      },
      "execution_count": null,
      "outputs": []
    },
    {
      "cell_type": "code",
      "source": [
        "conn = sqlite3.connect('test_database') \n",
        "c = conn.cursor()\n",
        "\n",
        "c.execute('''\n",
        "          CREATE TABLE IF NOT EXISTS products\n",
        "          ([product_id] INTEGER PRIMARY KEY, [product_name] TEXT)\n",
        "          ''')\n",
        "          \n",
        "c.execute('''\n",
        "          CREATE TABLE IF NOT EXISTS prices\n",
        "          ([product_id] INTEGER PRIMARY KEY, [price] INTEGER)\n",
        "          ''')\n",
        "                     \n",
        "conn.commit()"
      ],
      "metadata": {
        "id": "hgDqCfXQ38_m"
      },
      "execution_count": null,
      "outputs": []
    },
    {
      "cell_type": "code",
      "source": [
        "c.execute('''\n",
        "          INSERT INTO products (product_id, product_name)\n",
        "\n",
        "                VALUES\n",
        "                (1,'Computer'),\n",
        "                (2,'Printer'),\n",
        "                (3,'Tablet'),\n",
        "                (4,'Desk'),\n",
        "                (5,'Chair')\n",
        "          ''')\n",
        "\n",
        "c.execute('''\n",
        "          INSERT INTO prices (product_id, price)\n",
        "\n",
        "                VALUES\n",
        "                (1,800),\n",
        "                (2,200),\n",
        "                (3,300),\n",
        "                (4,450),\n",
        "                (5,150)\n",
        "          ''')\n",
        "\n",
        "conn.commit()"
      ],
      "metadata": {
        "id": "hSpebJhd4DA-"
      },
      "execution_count": null,
      "outputs": []
    },
    {
      "cell_type": "code",
      "source": [
        "c.execute('''\n",
        "          SELECT\n",
        "          a.product_name,\n",
        "          b.price\n",
        "          FROM products a\n",
        "          LEFT JOIN prices b ON a.product_id = b.product_id\n",
        "          ''')\n",
        "\n",
        "df = pd.DataFrame(c.fetchall(), columns=['product_name','price'])\n",
        "print (df)\n"
      ],
      "metadata": {
        "id": "rZIH6TV74N1l",
        "outputId": "5b488e94-01b5-420a-910d-ca2e74c66793",
        "colab": {
          "base_uri": "https://localhost:8080/"
        }
      },
      "execution_count": null,
      "outputs": [
        {
          "output_type": "stream",
          "name": "stdout",
          "text": [
            "  product_name  price\n",
            "0     Computer    800\n",
            "1      Printer    200\n",
            "2       Tablet    300\n",
            "3         Desk    450\n",
            "4        Chair    150\n"
          ]
        }
      ]
    }
  ]
}