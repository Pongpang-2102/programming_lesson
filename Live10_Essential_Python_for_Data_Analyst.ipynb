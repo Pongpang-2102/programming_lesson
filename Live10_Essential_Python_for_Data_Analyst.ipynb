{
  "nbformat": 4,
  "nbformat_minor": 0,
  "metadata": {
    "colab": {
      "name": "Live10_Essential Python for Data Analyst.ipynb",
      "provenance": [],
      "collapsed_sections": [],
      "authorship_tag": "ABX9TyObc+zsN0pxplqFmaOs9zrt",
      "include_colab_link": true
    },
    "kernelspec": {
      "name": "python3",
      "display_name": "Python 3"
    },
    "language_info": {
      "name": "python"
    }
  },
  "cells": [
    {
      "cell_type": "markdown",
      "metadata": {
        "id": "view-in-github",
        "colab_type": "text"
      },
      "source": [
        "<a href=\"https://colab.research.google.com/github/Pongpang-2102/programming_lesson/blob/main/Live10_Essential_Python_for_Data_Analyst.ipynb\" target=\"_parent\"><img src=\"https://colab.research.google.com/assets/colab-badge.svg\" alt=\"Open In Colab\"/></a>"
      ]
    },
    {
      "cell_type": "markdown",
      "source": [
        "# **Content**\n",
        "\n",
        "- Magic Command\n",
        "- Csv module\n",
        "- Review Class : CSVmonster()\n",
        "- Pandas / numpy\n",
        "- Requests module\n",
        "- Sqlite3 module\n",
        "- Gazpacho : Basic Web scraping\n",
        "- Intro to Basic ML in Python (on Demand)"
      ],
      "metadata": {
        "id": "_is9FJEpbdbP"
      }
    },
    {
      "cell_type": "markdown",
      "source": [
        "ไฟล์ที่จะใช้ : data.zip\n",
        "\n",
        "Alt + Enter : ขึ้น code cell ใหม่ด้านล่าง"
      ],
      "metadata": {
        "id": "htjIecklb5_g"
      }
    },
    {
      "cell_type": "markdown",
      "source": [
        "## 01 magic Command\n",
        "\n",
        "!..........."
      ],
      "metadata": {
        "id": "fBUi1L1DdbO5"
      }
    },
    {
      "cell_type": "code",
      "execution_count": null,
      "metadata": {
        "colab": {
          "base_uri": "https://localhost:8080/"
        },
        "id": "7Kznmi5jbVc3",
        "outputId": "ad5d8f8f-43d3-4e95-c7d8-cf68f3d47b84"
      },
      "outputs": [
        {
          "output_type": "stream",
          "name": "stdout",
          "text": [
            "/content\n"
          ]
        }
      ],
      "source": [
        "# magic command -> run command line\n",
        "!pwd"
      ]
    },
    {
      "cell_type": "code",
      "source": [
        "# to view what file or folder stored in this folder\n",
        "!ls"
      ],
      "metadata": {
        "colab": {
          "base_uri": "https://localhost:8080/"
        },
        "id": "dTXx0bEVdSvK",
        "outputId": "73672e4b-c42a-47f9-a3f8-699f6fa26450"
      },
      "execution_count": null,
      "outputs": [
        {
          "output_type": "stream",
          "name": "stdout",
          "text": [
            "employee.db  sample_data  starwars.csv\n"
          ]
        }
      ]
    },
    {
      "cell_type": "code",
      "source": [
        "# to create a new file : hello.txt\n",
        "!touch hello.txt"
      ],
      "metadata": {
        "id": "Wj_FvSIddVq6"
      },
      "execution_count": null,
      "outputs": []
    },
    {
      "cell_type": "code",
      "source": [
        "# to view what file or folder stored in this folder\n",
        "!ls"
      ],
      "metadata": {
        "colab": {
          "base_uri": "https://localhost:8080/"
        },
        "id": "7xcoehNZd0kr",
        "outputId": "b42cfc34-e3f4-4e76-a368-20e41e5656ca"
      },
      "execution_count": null,
      "outputs": [
        {
          "output_type": "stream",
          "name": "stdout",
          "text": [
            "employee.db  hello.txt\tsample_data  starwars.csv\n"
          ]
        }
      ]
    },
    {
      "cell_type": "code",
      "source": [
        "# creat a directory : use for creating new folder\n",
        "\n",
        "!mkdir newFolder\n",
        "\n",
        "# new folder named :\"newFolder\" will be created"
      ],
      "metadata": {
        "id": "7UwK9QseePyt"
      },
      "execution_count": null,
      "outputs": []
    },
    {
      "cell_type": "code",
      "source": [
        "# remove a directory : use for removing your folder\n",
        "!rmdir newFolder\n",
        "\n",
        "# folder named :\"newFolder\" will be removed"
      ],
      "metadata": {
        "id": "DaVBr-OCeasX"
      },
      "execution_count": null,
      "outputs": []
    },
    {
      "cell_type": "code",
      "source": [
        "# python package manager\n",
        "# !pip list    # (for trial : remove # at front)\n",
        "\n",
        "# after this command being run :\n",
        "# all library installed by Google Colab will be listed below \n",
        "# we can use it without additional installation"
      ],
      "metadata": {
        "id": "CsnQUzk_e5VO"
      },
      "execution_count": null,
      "outputs": []
    },
    {
      "cell_type": "code",
      "source": [
        "# python package manager\n",
        "# to view only library which its name started with pan......\n",
        "!pip list | grep ^pan\n",
        "\n",
        "# | : pipe operator (similar to data %>% select(....) in R)\n",
        "# grep : same with regex in ggsheet\n"
      ],
      "metadata": {
        "colab": {
          "base_uri": "https://localhost:8080/"
        },
        "id": "S7019ditfrxw",
        "outputId": "998c7795-a2b2-439e-e2a0-0a0c0c836072"
      },
      "execution_count": null,
      "outputs": [
        {
          "output_type": "stream",
          "name": "stdout",
          "text": [
            "pandas                        1.3.5\n",
            "pandas-datareader             0.9.0\n",
            "pandas-gbq                    0.13.3\n",
            "pandas-profiling              1.4.1\n",
            "pandocfilters                 1.5.0\n",
            "panel                         0.12.1\n"
          ]
        }
      ]
    },
    {
      "cell_type": "code",
      "source": [
        "# installl ne library / module\n",
        "!pip install gazpacho\n"
      ],
      "metadata": {
        "colab": {
          "base_uri": "https://localhost:8080/"
        },
        "id": "1o4EhRmEgeUV",
        "outputId": "608d3aa1-f135-4550-e44f-bcb908253d3a"
      },
      "execution_count": null,
      "outputs": [
        {
          "output_type": "stream",
          "name": "stdout",
          "text": [
            "Looking in indexes: https://pypi.org/simple, https://us-python.pkg.dev/colab-wheels/public/simple/\n",
            "Requirement already satisfied: gazpacho in /usr/local/lib/python3.7/dist-packages (1.1)\n"
          ]
        }
      ]
    },
    {
      "cell_type": "code",
      "source": [
        "! pip list | grep gazpacho\n",
        "# shown gazpaho current version"
      ],
      "metadata": {
        "colab": {
          "base_uri": "https://localhost:8080/"
        },
        "id": "q5fqa79hg16E",
        "outputId": "ca3e5874-a150-4330-e25c-66ba6f8114e1"
      },
      "execution_count": null,
      "outputs": [
        {
          "output_type": "stream",
          "name": "stdout",
          "text": [
            "gazpacho                      1.1\n"
          ]
        }
      ]
    },
    {
      "cell_type": "markdown",
      "source": [
        "## 02 Working with CSV"
      ],
      "metadata": {
        "id": "adoC34bx98JD"
      }
    },
    {
      "cell_type": "code",
      "source": [
        "# list all files in folder :data_Live10\n",
        "!ls data_Live10"
      ],
      "metadata": {
        "colab": {
          "base_uri": "https://localhost:8080/"
        },
        "id": "Vq24AMsL9-nb",
        "outputId": "5e7e940b-e141-456d-e9c1-c6a6ac4b14e5"
      },
      "execution_count": null,
      "outputs": [
        {
          "output_type": "stream",
          "name": "stdout",
          "text": [
            "ls: cannot access 'data_Live10': No such file or directory\n"
          ]
        }
      ]
    },
    {
      "cell_type": "code",
      "source": [
        "# list all files in folder :sample_data\n",
        "!ls sample_data"
      ],
      "metadata": {
        "colab": {
          "base_uri": "https://localhost:8080/"
        },
        "id": "TQ_JFHsO-DNy",
        "outputId": "2352df9a-deb9-408f-9b22-16ae1d9f60a2"
      },
      "execution_count": null,
      "outputs": [
        {
          "output_type": "stream",
          "name": "stdout",
          "text": [
            "anscombe.json\t\t      mnist_test.csv\n",
            "california_housing_test.csv   mnist_train_small.csv\n",
            "california_housing_train.csv  README.md\n"
          ]
        }
      ]
    },
    {
      "cell_type": "code",
      "source": [
        "# preview contennt in hotel.csv\n",
        "# cat : concatenate\n",
        "!cat data_Live10/hotel.csv\n",
        "\n",
        "# find hotel.csv from folder data_Live10"
      ],
      "metadata": {
        "colab": {
          "base_uri": "https://localhost:8080/"
        },
        "id": "QVIZFKSU-UX4",
        "outputId": "9331d71e-e84e-43d9-f502-cffba0dd868e"
      },
      "execution_count": null,
      "outputs": [
        {
          "output_type": "stream",
          "name": "stdout",
          "text": [
            "cat: data_Live10/hotel.csv: No such file or directory\n"
          ]
        }
      ]
    },
    {
      "cell_type": "code",
      "source": [
        "# starting withn import csv\n",
        "import csv\n"
      ],
      "metadata": {
        "id": "r_Ip773__27n"
      },
      "execution_count": null,
      "outputs": []
    },
    {
      "cell_type": "code",
      "source": [
        "# 1. open file\n",
        "## start with read file\n",
        "file = open(\"data_Live10/hotel.csv\",\"r\")\n",
        "\n",
        "# 2. read all data in this file\n",
        "## use csv reader reads the file named \"file\" and stored it to object \"reader\"\n",
        "data = csv.reader(file)\n",
        "\n",
        "# 3. print each row in terminal\n",
        "## to view content in file\n",
        "for row in data:\n",
        "    print(row)\n",
        "\n",
        "# 5. close file\n",
        "file.close()\n",
        "\n",
        "# in case of typing \"close\" is forgotten : your file might be corrupted"
      ],
      "metadata": {
        "colab": {
          "base_uri": "https://localhost:8080/",
          "height": 235
        },
        "id": "6w5vDWoWAK05",
        "outputId": "e6ed2461-d232-4320-f434-c62060b36681"
      },
      "execution_count": null,
      "outputs": [
        {
          "output_type": "error",
          "ename": "FileNotFoundError",
          "evalue": "ignored",
          "traceback": [
            "\u001b[0;31m---------------------------------------------------------------------------\u001b[0m",
            "\u001b[0;31mFileNotFoundError\u001b[0m                         Traceback (most recent call last)",
            "\u001b[0;32m<ipython-input-88-ee6b857cb1b1>\u001b[0m in \u001b[0;36m<module>\u001b[0;34m()\u001b[0m\n\u001b[1;32m      1\u001b[0m \u001b[0;31m# 1. open file\u001b[0m\u001b[0;34m\u001b[0m\u001b[0;34m\u001b[0m\u001b[0;34m\u001b[0m\u001b[0m\n\u001b[1;32m      2\u001b[0m \u001b[0;31m## start with read file\u001b[0m\u001b[0;34m\u001b[0m\u001b[0;34m\u001b[0m\u001b[0;34m\u001b[0m\u001b[0m\n\u001b[0;32m----> 3\u001b[0;31m \u001b[0mfile\u001b[0m \u001b[0;34m=\u001b[0m \u001b[0mopen\u001b[0m\u001b[0;34m(\u001b[0m\u001b[0;34m\"data_Live10/hotel.csv\"\u001b[0m\u001b[0;34m,\u001b[0m\u001b[0;34m\"r\"\u001b[0m\u001b[0;34m)\u001b[0m\u001b[0;34m\u001b[0m\u001b[0;34m\u001b[0m\u001b[0m\n\u001b[0m\u001b[1;32m      4\u001b[0m \u001b[0;34m\u001b[0m\u001b[0m\n\u001b[1;32m      5\u001b[0m \u001b[0;31m# 2. read all data in this file\u001b[0m\u001b[0;34m\u001b[0m\u001b[0;34m\u001b[0m\u001b[0;34m\u001b[0m\u001b[0m\n",
            "\u001b[0;31mFileNotFoundError\u001b[0m: [Errno 2] No such file or directory: 'data_Live10/hotel.csv'"
          ]
        }
      ]
    },
    {
      "cell_type": "markdown",
      "source": [
        "What do you do ?\n",
        "- \"r\" : read file (read only)\n",
        "- \"w\" : write file (overwrite)\n",
        "- \"a\" : append (create a new row append to existed data)"
      ],
      "metadata": {
        "id": "1-kG3NB9AhRU"
      }
    },
    {
      "cell_type": "code",
      "source": [
        "# 1. open file\n",
        "## start with read file\n",
        "file = open(\"data_Live10/hotel.csv\",\"r\")\n",
        "\n",
        "# 2. read all data in this file\n",
        "## use csv reader reads the file named \"file\" and stored it to object \"reader\"\n",
        "data = csv.reader(file)\n",
        "\n",
        "# 3. to bring data to analyze\n",
        "# start with creating an empty list : this case we named : result\n",
        "result = []\n",
        "\n",
        "# 4.print each row in terminal\n",
        "for row in data:\n",
        "    result.append(row)\n",
        "\n",
        "# 5. close file\n",
        "file.close()        # in case of typing \"close\" is forgotten : your file might be corrupted\n",
        "\n",
        "# 6. print result\n",
        "print(result)\n",
        "\n",
        "# result wll be shown in list of  list form (aligned in horizontal)"
      ],
      "metadata": {
        "id": "xnJJQlW3A2ep"
      },
      "execution_count": null,
      "outputs": []
    },
    {
      "cell_type": "code",
      "source": [
        "# to view header in file :result\n",
        "result[0]"
      ],
      "metadata": {
        "id": "eeN66W8dDkTR"
      },
      "execution_count": null,
      "outputs": []
    },
    {
      "cell_type": "code",
      "source": [
        "# to view body data\n",
        "result[1: ]"
      ],
      "metadata": {
        "id": "AQfZRIQwFuxQ"
      },
      "execution_count": null,
      "outputs": []
    },
    {
      "cell_type": "markdown",
      "source": [
        "- to comment file : press `ctrl` + `/`"
      ],
      "metadata": {
        "id": "gIhklvMAN941"
      }
    },
    {
      "cell_type": "code",
      "source": [
        "# context manager .. with (to prevent forgetting to close file)\n",
        "# using with / file will be automatically opened & closed\n",
        "\n",
        "# file = open(\"data_Live10/hotel.csv\",\"r\")\n",
        "# ......\n",
        "# file.close()\n",
        "\n",
        "result = []\n",
        "with open(\"data_Live10/hotel.csv\",\"r\") as file :\n",
        "    data = csv.reader(file)\n",
        "    for row in data:\n",
        "        result.append(row)\n",
        "\n",
        "print(result)\n"
      ],
      "metadata": {
        "id": "1iJMPPouNgWU"
      },
      "execution_count": null,
      "outputs": []
    },
    {
      "cell_type": "code",
      "source": [
        "# from previous code chunk\n",
        "# we may use : try --> to prevent occuring error\n",
        "\n",
        "result = []\n",
        "try :\n",
        "    with open(\"data_Live10/hotel.csv\",\"r\") as file :\n",
        "        data = csv.reader(file)\n",
        "        for row in data:\n",
        "            result.append(row)\n",
        "except FileNotFoundError :\n",
        "    print(\"File not Found\")\n",
        "else :\n",
        "    print(\"Load data Successfully\")\n",
        "\n",
        "\n",
        "print(result)\n",
        "\n",
        " # if hotellll.csv is opened  (wrong file name)\n",
        " # the result would be\n",
        " # File not Found\n",
        "#   []\n",
        "\n"
      ],
      "metadata": {
        "id": "D60CelPXNgVa"
      },
      "execution_count": null,
      "outputs": []
    },
    {
      "cell_type": "code",
      "source": [
        "# write a ne csv file\n",
        "# we call \"with clause \" that \" Context Manager\"\n",
        "\n",
        "import csv\n",
        "\n",
        "with open(\"hello.csv\",\"w\") as file:\n",
        "    writer = csv.writer(file)\n",
        "    writer.writerow( [\"id\",\"name\",\"city\"]  )\n",
        "    writer.writerow( [1,\"Toy\",\"Bangkok\"]   )\n",
        "    writer.writerow( [2,\"Mary\",\"Tokyo\"]    )\n",
        "    writer.writerow( [3,\"Anna\",\"Lodon\"]    )\n",
        "\n",
        "# ถ้าไม่มีชื่อไฟล์ที่ต้องการจะเปิด Python จะทำการสร้างไฟล์ใหม่\n",
        "# we can dowload hello.csv to our computer\n",
        "\n",
        "# \"a\" แค่เปลี่ยน w เป็น a"
      ],
      "metadata": {
        "id": "gdW80gRbRBUN"
      },
      "execution_count": null,
      "outputs": []
    },
    {
      "cell_type": "code",
      "source": [
        "# to preview info in this terminal (or console)\n",
        "# cat : concatenate : all contents will be concatenated\n",
        "!cat hello.csv"
      ],
      "metadata": {
        "id": "6L9PtSRbVlWj"
      },
      "execution_count": null,
      "outputs": []
    },
    {
      "cell_type": "code",
      "source": [
        "# write in multiple rows \n",
        "headers = [\"id\" ,\"name\",\"number_student\"]\n",
        "data = [\n",
        "  [1 ,\"CU\" , 15000],\n",
        "  [2 , \"CU\" , 9800],  \n",
        "  [3 , \"KU\" , 12500]\n",
        "]\n",
        "with open(\"school.csv\",\"w\") as file:\n",
        "    writer = csv.writer(file)\n",
        "    writer.writerow(headers)\n",
        "    writer.writerows(data)\n",
        "\n"
      ],
      "metadata": {
        "id": "3z9xBP7uV3dx"
      },
      "execution_count": null,
      "outputs": []
    },
    {
      "cell_type": "code",
      "source": [
        "!cat school.csv"
      ],
      "metadata": {
        "id": "I_p4O1wUYTts"
      },
      "execution_count": null,
      "outputs": []
    },
    {
      "cell_type": "markdown",
      "source": [
        "## 03 Class Review : CSVmonster()"
      ],
      "metadata": {
        "id": "xo-RaeTCYhks"
      }
    },
    {
      "cell_type": "code",
      "source": [
        "# start with create blank class and pass\n",
        "\n",
        "# Object Oriented Programming : OOP\n",
        "class Book :\n",
        "    pass"
      ],
      "metadata": {
        "id": "gVgFC8kLYVTn"
      },
      "execution_count": null,
      "outputs": []
    },
    {
      "cell_type": "code",
      "source": [
        "my_book = Book()\n",
        "print(my_book)\n",
        "\n",
        "# now Python known my_book as Book object"
      ],
      "metadata": {
        "id": "bjWzf1TrYrVx"
      },
      "execution_count": null,
      "outputs": []
    },
    {
      "cell_type": "code",
      "source": [
        "# objet oriented Programming\n",
        "# OOP language\n",
        "class Book : \n",
        "    def __init__(self , name , author , year ) :\n",
        "        self.name = name\n",
        "        self.author = author \n",
        "        self.year = year"
      ],
      "metadata": {
        "id": "Yvf5_ocaZdQO"
      },
      "execution_count": null,
      "outputs": []
    },
    {
      "cell_type": "code",
      "source": [
        "# create a new instance\n",
        "my_book = Book(\"R for Data Science\" ,\"Hadley Wickham\" , 2018)\n"
      ],
      "metadata": {
        "id": "coFQny95adKZ"
      },
      "execution_count": null,
      "outputs": []
    },
    {
      "cell_type": "code",
      "source": [
        "print(my_book.name)\n",
        "print(my_book.author)\n",
        "print(my_book.year)"
      ],
      "metadata": {
        "id": "_lmVC2m3ar-u"
      },
      "execution_count": null,
      "outputs": []
    },
    {
      "cell_type": "code",
      "source": [
        "friend_book = Book(\"Python Beginners\",\"Toy\" , 2022 )\n",
        "print(friend_book.name)\n",
        "print(friend_book.author)\n",
        "print(friend_book.year)"
      ],
      "metadata": {
        "id": "jL3flbSBaslG"
      },
      "execution_count": null,
      "outputs": []
    },
    {
      "cell_type": "markdown",
      "source": [
        "### 03-1 CSVMonster to Analyze data"
      ],
      "metadata": {
        "id": "EwZJy7jrbc0e"
      }
    },
    {
      "cell_type": "code",
      "source": [
        "!cat data_Live10/hotel.csv"
      ],
      "metadata": {
        "id": "EyO1m8G9bH_s"
      },
      "execution_count": null,
      "outputs": []
    },
    {
      "cell_type": "code",
      "source": [
        "import csv\n",
        "\n",
        "class CSVMonster:\n",
        "    pass"
      ],
      "metadata": {
        "id": "s19WkWfBblxc"
      },
      "execution_count": null,
      "outputs": []
    },
    {
      "cell_type": "code",
      "source": [
        "# Step 1 . Define class & Empty list\n",
        "\n",
        "import csv\n",
        "\n",
        "class CSVmonster:\n",
        "    # initialize a new instance\n",
        "    def __init__(self) :\n",
        "        self.list_data = []\n"
      ],
      "metadata": {
        "id": "9JQN-4dVb6IY"
      },
      "execution_count": null,
      "outputs": []
    },
    {
      "cell_type": "code",
      "source": [
        "monster = CSVmonster()"
      ],
      "metadata": {
        "id": "t3pz5urEcUQf"
      },
      "execution_count": null,
      "outputs": []
    },
    {
      "cell_type": "code",
      "source": [
        "monster.list_data  # empty list"
      ],
      "metadata": {
        "id": "6wsjwQcDcgLc"
      },
      "execution_count": null,
      "outputs": []
    },
    {
      "cell_type": "code",
      "source": [
        "# Step 2.\n",
        "\n",
        "import csv\n",
        "\n",
        "class CSVmonster:\n",
        "    # initialize a new instance\n",
        "    def __init__(self) :\n",
        "        self.list_data = []\n",
        "\n",
        "    # 1. read csv file\n",
        "    def read_csv(self, filename) :\n",
        "        with open(filename , \"r\") as file :\n",
        "            data = csv.reader(file)\n",
        "            for row in data:\n",
        "                self.list_data.append(row)\n",
        "        print(\"Data Loaded Successfully\")\n",
        "\n",
        "\n"
      ],
      "metadata": {
        "id": "2H7VXCpfczY_"
      },
      "execution_count": null,
      "outputs": []
    },
    {
      "cell_type": "code",
      "source": [
        "monster = CSVmonster()\n",
        "\n",
        "monster.read_csv(\"data_Live10/hotel.csv\")\n",
        "# monster.read_csv(\"data_Live10/hotelllll.csv\")\n",
        "\n",
        "# How about error handling e.g. Using \"hotelllll.csv\" ?\n",
        "# we will be using try -exept block"
      ],
      "metadata": {
        "id": "7TYSy2orkcLl"
      },
      "execution_count": null,
      "outputs": []
    },
    {
      "cell_type": "code",
      "source": [
        "monster.list_data"
      ],
      "metadata": {
        "id": "kVbRPz0tlKha"
      },
      "execution_count": null,
      "outputs": []
    },
    {
      "cell_type": "code",
      "source": [
        "# revise code slighly\n",
        "# add try block\n",
        "\n",
        "import csv\n",
        "\n",
        "class CSVmonster:\n",
        "    # initialize a new instance\n",
        "    def __init__(self) :\n",
        "        self.list_data = []\n",
        "\n",
        "    # 1. read csv file\n",
        "    def read_csv(self, filename) :\n",
        "        try :\n",
        "            with open(filename , \"r\") as file :\n",
        "                data = csv.reader(file)\n",
        "                for row in data:\n",
        "                    self.list_data.append(row)\n",
        "        except FileNotFoundError :\n",
        "            print(\"File Not Found\")\n",
        "        else :\n",
        "            print(\"Data Loaded Successfully\")\n",
        "\n",
        "\n",
        "\n"
      ],
      "metadata": {
        "id": "kq7KAoSolMwM"
      },
      "execution_count": null,
      "outputs": []
    },
    {
      "cell_type": "code",
      "source": [
        "# try again after using try-except catch : right file name\n",
        "monster = CSVmonster()\n",
        "monster.read_csv(\"data_Live10/hotel.csv\")"
      ],
      "metadata": {
        "id": "ANWkZ4FPnBUO"
      },
      "execution_count": null,
      "outputs": []
    },
    {
      "cell_type": "code",
      "source": [
        "# try again after using try-except catch : wrong file name\n",
        "monster = CSVmonster()\n",
        "monster.read_csv(\"data_Live10/hote.csv\")"
      ],
      "metadata": {
        "id": "5Ttd5VeynCOu"
      },
      "execution_count": null,
      "outputs": []
    },
    {
      "cell_type": "code",
      "source": [
        "# add more function\n",
        "\n",
        "# 2. head\n",
        "\n",
        "import csv\n",
        "\n",
        "class CSVmonster:\n",
        "    # initialize a new instance\n",
        "    def __init__(self) :\n",
        "        self.list_data = []\n",
        "\n",
        "    # 1. read csv file\n",
        "    def read_csv(self, filename) :\n",
        "        try :\n",
        "            with open(filename , \"r\") as file :\n",
        "                data = csv.reader(file)\n",
        "                for row in data:\n",
        "                    self.list_data.append(row)\n",
        "        except FileNotFoundError :\n",
        "            print(\"File Not Found\")\n",
        "        else :\n",
        "            print(\"Data Loaded Successfully\")\n",
        "\n",
        "    # 2. head\n",
        "    def head(self) :\n",
        "        header = self.list_data[0]\n",
        "        data = self.list_data[1: 6] # row 1 -5\n",
        "        print(header)\n",
        "        # print(data) : change position  from here to be in for loop to increase tidyness\n",
        "        for row in data:\n",
        "            print(row)\n",
        "\n",
        "\n",
        "\n"
      ],
      "metadata": {
        "id": "2nG__juQnUtN"
      },
      "execution_count": null,
      "outputs": []
    },
    {
      "cell_type": "code",
      "source": [
        "monster = CSVmonster()\n",
        "monster.read_csv(\"data_Live10/hotel.csv\")"
      ],
      "metadata": {
        "id": "pmk7p4vroE45"
      },
      "execution_count": null,
      "outputs": []
    },
    {
      "cell_type": "code",
      "source": [
        "# to view top  5 row\n",
        "monster.head()"
      ],
      "metadata": {
        "id": "X5SkRhm6oNlF"
      },
      "execution_count": null,
      "outputs": []
    },
    {
      "cell_type": "code",
      "source": [
        "# How to print head based on user input\n",
        "\n",
        "import csv\n",
        "\n",
        "class CSVmonster:\n",
        "    # initialize a new instance\n",
        "    def __init__(self) :\n",
        "        self.list_data = []\n",
        "\n",
        "    # 1. read csv file\n",
        "    def read_csv(self, filename) :\n",
        "        try :\n",
        "            with open(filename , \"r\") as file :\n",
        "                data = csv.reader(file)\n",
        "                for row in data:\n",
        "                    self.list_data.append(row)\n",
        "        except FileNotFoundError :\n",
        "            print(\"File Not Found\")\n",
        "        else :\n",
        "            print(\"Data Loaded Successfully\")\n",
        "\n",
        "    # 2. head\n",
        "    # print first five rows\n",
        "    def head(self , n = 5) :\n",
        "        header = self.list_data[0]\n",
        "        data = self.list_data[1: n+1] # row 1 -5\n",
        "        print(header)\n",
        "        # print(data) : change position  from here to be in for loop to increase tidyness\n",
        "        for row in data:\n",
        "            print(row)\n",
        "\n"
      ],
      "metadata": {
        "id": "7Ism7yffoQgC"
      },
      "execution_count": null,
      "outputs": []
    },
    {
      "cell_type": "code",
      "source": [
        "monster = CSVmonster()\n",
        "monster.read_csv(\"data_Live10/hotel.csv\")"
      ],
      "metadata": {
        "id": "QX7ivHevp3ws"
      },
      "execution_count": null,
      "outputs": []
    },
    {
      "cell_type": "code",
      "source": [
        "# to view top  n row (n is user input)\n",
        "\n",
        "# to view top 3 row\n",
        "monster.head(3)"
      ],
      "metadata": {
        "id": "4hcuwjjCp4RD"
      },
      "execution_count": null,
      "outputs": []
    },
    {
      "cell_type": "code",
      "source": [
        "# to view top 5 row\n",
        "monster.head(5)"
      ],
      "metadata": {
        "id": "ALe9bCraqh6H"
      },
      "execution_count": null,
      "outputs": []
    },
    {
      "cell_type": "code",
      "source": [
        "monster.head() # n default = 5"
      ],
      "metadata": {
        "id": "E0hsRnJVqlsO"
      },
      "execution_count": null,
      "outputs": []
    },
    {
      "cell_type": "code",
      "source": [
        "monster.head(4) # n default = 5\n",
        "# this case : we use 4 to overwrite 5 and show head at n = 4"
      ],
      "metadata": {
        "id": "eaHlp5pEqzt-"
      },
      "execution_count": null,
      "outputs": []
    },
    {
      "cell_type": "code",
      "source": [
        "# 3. print last five rows\n",
        "import csv\n",
        "\n",
        "class CSVmonster:\n",
        "    # initialize a new instance\n",
        "    def __init__(self) :\n",
        "        self.list_data = []\n",
        "\n",
        "    # 1. read csv file\n",
        "    def read_csv(self, filename) :\n",
        "        try :\n",
        "            with open(filename , \"r\") as file :\n",
        "                data = csv.reader(file)\n",
        "                for row in data:\n",
        "                    self.list_data.append(row)\n",
        "        except FileNotFoundError :\n",
        "            print(\"File Not Found\")\n",
        "        else :\n",
        "            print(\"Data Loaded Successfully\")\n",
        "\n",
        "    # 2. head\n",
        "    # print first five rows\n",
        "    def head(self , n = 5) :\n",
        "        header = self.list_data[0]\n",
        "        data = self.list_data[1: n+1] # row 1 -5\n",
        "        print(header)\n",
        "        for row in data:\n",
        "            print(row)\n",
        "\n",
        "    # 3. tail\n",
        "    # print last five rows\n",
        "    def tail(self , n = -5) :\n",
        "        header = self.list_data[0]\n",
        "        data = self.list_data[-1*n: ]\n",
        "        print(header)\n",
        "        for row in data :\n",
        "            print(row)\n"
      ],
      "metadata": {
        "id": "m9x9iHnZrKpm"
      },
      "execution_count": null,
      "outputs": []
    },
    {
      "cell_type": "code",
      "source": [
        "monster = CSVmonster()\n",
        "monster.read_csv(\"data_Live10/hotel.csv\")"
      ],
      "metadata": {
        "id": "WFL78Z04sYxb"
      },
      "execution_count": null,
      "outputs": []
    },
    {
      "cell_type": "code",
      "source": [
        "monster.tail(4)"
      ],
      "metadata": {
        "id": "06qYhdbYsW4E"
      },
      "execution_count": null,
      "outputs": []
    },
    {
      "cell_type": "markdown",
      "source": [
        "How can we do : if we want to filter only hotel located in Bangkok ?"
      ],
      "metadata": {
        "id": "vFLflqZBt_Oq"
      }
    },
    {
      "cell_type": "code",
      "source": [
        "# 4. filter dada\n",
        "import csv\n",
        "\n",
        "class CSVmonster:\n",
        "    # initialize a new instance\n",
        "    def __init__(self) :\n",
        "        self.list_data = []\n",
        "\n",
        "    # 1. read csv file\n",
        "    def read_csv(self, filename) :\n",
        "        try :\n",
        "            with open(filename , \"r\") as file :\n",
        "                data = csv.reader(file)\n",
        "                for row in data:\n",
        "                    self.list_data.append(row)\n",
        "        except FileNotFoundError :\n",
        "            print(\"File Not Found\")\n",
        "        else :\n",
        "            print(\"Data Loaded Successfully\")\n",
        "\n",
        "    # 2. head\n",
        "    # print first five rows\n",
        "    def head(self , n = 5) :\n",
        "        header = self.list_data[0]\n",
        "        data = self.list_data[1: n+1] # row 1 -5\n",
        "        print(header)\n",
        "        for row in data:\n",
        "            print(row)\n",
        "\n",
        "    # 3. tail\n",
        "    # print last five rows\n",
        "    def tail(self , n = -5) :\n",
        "        header = self.list_data[0]\n",
        "        data = self.list_data[-1*n: ]\n",
        "        print(header)\n",
        "        for row in data :\n",
        "            print(row)\n",
        "\n",
        "    # 4. filter data\n",
        "    def filter_city(self, city) :\n",
        "        headers = self.list_data[0]\n",
        "        print(headers)\n",
        "        result =[]\n",
        "        for row in self.list_data[1:   ]:            \n",
        "            if row[2] == city :\n",
        "                result.append(row)\n",
        "        for row in result :\n",
        "            print(row)\n",
        "\n",
        "\n",
        "\n",
        "        \n",
        "\n",
        "# check if city =  \"Bangkok\"\n",
        "# name of city : index 2 \n"
      ],
      "metadata": {
        "id": "J1zDAJalt-SP"
      },
      "execution_count": null,
      "outputs": []
    },
    {
      "cell_type": "code",
      "source": [
        "!cat data_Live10/hotel.csv"
      ],
      "metadata": {
        "id": "mlP6972EvFh-"
      },
      "execution_count": null,
      "outputs": []
    },
    {
      "cell_type": "code",
      "source": [
        "monster = CSVmonster()\n",
        "monster.read_csv(\"data_Live10/hotel.csv\")"
      ],
      "metadata": {
        "id": "2tVa70h8vCB5"
      },
      "execution_count": null,
      "outputs": []
    },
    {
      "cell_type": "code",
      "source": [
        "monster.filter_city(\"Bangkok\")"
      ],
      "metadata": {
        "id": "Y7Numb2bwV6M"
      },
      "execution_count": null,
      "outputs": []
    },
    {
      "cell_type": "code",
      "source": [
        "monster.filter_city(\"London\")"
      ],
      "metadata": {
        "id": "N9eSwuhbxBRy"
      },
      "execution_count": null,
      "outputs": []
    },
    {
      "cell_type": "code",
      "source": [
        "monster.filter_city(\"Tokyo\")"
      ],
      "metadata": {
        "id": "3Ushmp8_xEj1"
      },
      "execution_count": null,
      "outputs": []
    },
    {
      "cell_type": "markdown",
      "source": [
        "How can we do if we need to know `average price per night` of all hotels?"
      ],
      "metadata": {
        "id": "p9LDvxqzx_gs"
      }
    },
    {
      "cell_type": "code",
      "source": [
        "# 5. find average price per night\n",
        "import csv\n",
        "\n",
        "class CSVmonster:\n",
        "    # initialize a new instance\n",
        "    def __init__(self) :\n",
        "        self.list_data = []\n",
        "\n",
        "    # 1. read csv file\n",
        "    def read_csv(self, filename) :\n",
        "        try :\n",
        "            with open(filename , \"r\") as file :\n",
        "                data = csv.reader(file)\n",
        "                for row in data:\n",
        "                    self.list_data.append(row)\n",
        "        except FileNotFoundError :\n",
        "            print(\"File Not Found\")\n",
        "        else :\n",
        "            print(\"Data Loaded Successfully\")\n",
        "\n",
        "    # 2. head\n",
        "    # print first five rows\n",
        "    def head(self , n = 5) :\n",
        "        header = self.list_data[0]\n",
        "        data = self.list_data[1: n+1] # row 1 -5\n",
        "        print(header)\n",
        "        for row in data:\n",
        "            print(row)\n",
        "\n",
        "    # 3. tail\n",
        "    # print last five rows\n",
        "    def tail(self , n = -5) :\n",
        "        header = self.list_data[0]\n",
        "        data = self.list_data[-1*n: ]\n",
        "        print(header)\n",
        "        for row in data :\n",
        "            print(row)\n",
        "\n",
        "    # 4. filter data\n",
        "    def filter_city(self, city) :\n",
        "        headers = self.list_data[0]\n",
        "        print(headers)\n",
        "        result =[]\n",
        "        for row in self.list_data[1:   ]:            \n",
        "            if row[2] == city :\n",
        "                result.append(row)\n",
        "        for row in result :\n",
        "            print(row)\n",
        "\n",
        "    # 5. find average price per night\n",
        "    def find_mean_price(self) :\n",
        "        list_prices = []\n",
        "        for row in self.list_data[1:]:\n",
        "            list_prices.append(int(row[3]))\n",
        "        avg_price = sum(list_prices) / len(list_prices)\n",
        "        print(f\"Average Price : {avg_price} USD per night\")\n",
        "        print(f\"Max Price :{max(list_prices)} USD per night\")\n",
        "        print(f\"Min Price :{min(list_prices)} USD per night\")\n",
        "\n",
        "            "
      ],
      "metadata": {
        "id": "9N74SnEEyMac"
      },
      "execution_count": null,
      "outputs": []
    },
    {
      "cell_type": "code",
      "source": [
        "# my trial in issue 5 before disclose an answer\n",
        " # 5. find average price per night\n",
        "#  def find_mean_price(self) :\n",
        "#             price_hotels = []\n",
        "#             hotel_numbers = 0\n",
        "#             for price_hotel in self.list_data[1:]:\n",
        "#                 price_hotels.append(int(price_hotel[3]))\n",
        "#                 hotel_numbers += 1\n",
        "#             print(\"Hotel number\", hotel_numbers)\n",
        "#             print(\"Hotel price\",price_hotels)\n",
        "#             sum_price = 0\n",
        "#             for price_hotel in price_hotels :\n",
        "#                 sum_price += price_hotel\n",
        "#             print(\"average hotel price per night :\",sum_price/hotel_numbers)\n",
        "       \n",
        "# same answer (32.1) but longer code"
      ],
      "metadata": {
        "id": "TAL7y39v8EU6"
      },
      "execution_count": null,
      "outputs": []
    },
    {
      "cell_type": "code",
      "source": [
        "monster = CSVmonster()\n",
        "monster.read_csv(\"data_Live10/hotel.csv\")"
      ],
      "metadata": {
        "id": "-TKMviqX6oSR"
      },
      "execution_count": null,
      "outputs": []
    },
    {
      "cell_type": "code",
      "source": [
        "# show the average hotel price per night from our function\n",
        "# revise topic 5 to add more detail : max and min number\n",
        "\n",
        "monster.find_mean_price()"
      ],
      "metadata": {
        "id": "WXboeoqN6qJQ"
      },
      "execution_count": null,
      "outputs": []
    },
    {
      "cell_type": "markdown",
      "source": [
        "## 04 Intro to Pandas/Numpy"
      ],
      "metadata": {
        "id": "So4R4XdABWlz"
      }
    },
    {
      "cell_type": "code",
      "source": [
        "# import library\n",
        "import pandas as pd  # dataframe\n",
        "import numpy as np #numerical Python -- > computing"
      ],
      "metadata": {
        "id": "Git66j-ZBnZJ"
      },
      "execution_count": null,
      "outputs": []
    },
    {
      "cell_type": "code",
      "source": [
        "x = np.array( [1,2,3])\n",
        "type(x) # 1 dimension\n"
      ],
      "metadata": {
        "id": "Z6nsw44eCHi6"
      },
      "execution_count": null,
      "outputs": []
    },
    {
      "cell_type": "code",
      "source": [
        "# x multiply by 2\n",
        "x * 2"
      ],
      "metadata": {
        "id": "6DHRtXJ_CX5q"
      },
      "execution_count": null,
      "outputs": []
    },
    {
      "cell_type": "code",
      "source": [
        "# x multiply by 5\n",
        "x * 5"
      ],
      "metadata": {
        "id": "oAhXE8iiCisb"
      },
      "execution_count": null,
      "outputs": []
    },
    {
      "cell_type": "code",
      "source": [
        "# How about multiply list with 2\n",
        "[1,2,3] * 2\n",
        "# each list member will be duplicated \n",
        "#same with [1,2,3] + [1,2,3]\n",
        "# so we need to change list to array --> suitable for using numpy"
      ],
      "metadata": {
        "id": "HTDzZYnTCpW3"
      },
      "execution_count": null,
      "outputs": []
    },
    {
      "cell_type": "code",
      "source": [
        "np.array( [1,2,3]) **3"
      ],
      "metadata": {
        "id": "bF_CMd0TDPAd"
      },
      "execution_count": null,
      "outputs": []
    },
    {
      "cell_type": "code",
      "source": [
        "# creating 2D array\n",
        "y = np.array([\n",
        "          [1,2,3],\n",
        "          [4,5,6]])"
      ],
      "metadata": {
        "id": "5Tmc78skDYXM"
      },
      "execution_count": null,
      "outputs": []
    },
    {
      "cell_type": "code",
      "source": [
        "type(y)"
      ],
      "metadata": {
        "id": "T5uSHs2hDpkz"
      },
      "execution_count": null,
      "outputs": []
    },
    {
      "cell_type": "code",
      "source": [
        "x = np.array([1,15,20,8,9])"
      ],
      "metadata": {
        "id": "ue6sh2VODrwJ"
      },
      "execution_count": null,
      "outputs": []
    },
    {
      "cell_type": "code",
      "source": [
        "# to find mean of x and other aggregated value\n",
        "print(x.mean() , x.sum() , x.max() , x.min() , x.std() )\n",
        "\n",
        "# median :\n",
        "# 'numpy.ndarray' object has no attribute 'median'\n"
      ],
      "metadata": {
        "id": "vnGb2LvJDxgZ"
      },
      "execution_count": null,
      "outputs": []
    },
    {
      "cell_type": "code",
      "source": [
        "# How to find median of array x \n",
        "np.median(x)"
      ],
      "metadata": {
        "id": "NDPLWmP0D2Eq"
      },
      "execution_count": null,
      "outputs": []
    },
    {
      "cell_type": "code",
      "source": [
        "print( np.mean(x)  )\n",
        "print( np.sum(x)   )"
      ],
      "metadata": {
        "id": "H4H51-1aEyNQ"
      },
      "execution_count": null,
      "outputs": []
    },
    {
      "cell_type": "code",
      "source": [
        "# pandas\n",
        "import pandas as pd\n"
      ],
      "metadata": {
        "id": "63KOXmsQFFCb"
      },
      "execution_count": null,
      "outputs": []
    },
    {
      "cell_type": "markdown",
      "source": [
        "for more info in pandas : go to learn in course Pandas Foundation"
      ],
      "metadata": {
        "id": "L32p90DhFKoe"
      }
    },
    {
      "cell_type": "code",
      "source": [
        "# starting with create dictionary named \"data\"\n",
        "data = {\n",
        "    \"id\" : [1,2,3,4] ,\n",
        "    \"name\" : [\"toy\",\"ink\",\"ball\",\"top\"] ,\n",
        "    \"city\" : [\"BKK\",\"KOR\" ,\"JPN\" ,\"USA\"] \n",
        "}"
      ],
      "metadata": {
        "id": "VRrYtQH7FISz"
      },
      "execution_count": null,
      "outputs": []
    },
    {
      "cell_type": "code",
      "source": [
        "# pandas dataframe\n",
        "# change data type in dictionary form to pandas dataframe\n",
        "# and assign it to object : df\n",
        "df = pd.DataFrame(data)\n",
        "df"
      ],
      "metadata": {
        "id": "LRLOYx2PGD6P"
      },
      "execution_count": null,
      "outputs": []
    },
    {
      "cell_type": "code",
      "source": [
        "# how to read csv file from internet\n",
        "df = pd.read_csv(\"https://gist.githubusercontent.com/seankross/a412dfbd88b3db70b74b/raw/5f23f993cd87c283ce766e7ac6b329ee7cc2e1d1/mtcars.csv\")\n",
        "df"
      ],
      "metadata": {
        "id": "7ZSpYQuAGku0"
      },
      "execution_count": null,
      "outputs": []
    },
    {
      "cell_type": "code",
      "source": [
        "# try to check data type\n",
        "type(df)\n",
        "\n",
        "# pandas.core.frame.DataFrame"
      ],
      "metadata": {
        "id": "bUKfQuiIHAnS"
      },
      "execution_count": null,
      "outputs": []
    },
    {
      "cell_type": "code",
      "source": [
        "# view data first 5 rows using head\n",
        "df.head()"
      ],
      "metadata": {
        "id": "bM205NqbHK9K"
      },
      "execution_count": null,
      "outputs": []
    },
    {
      "cell_type": "code",
      "source": [
        "# view data first n rows using head\n",
        "# if n = 3\n",
        "df.head(3)"
      ],
      "metadata": {
        "id": "n9HMbDCdHSEi"
      },
      "execution_count": null,
      "outputs": []
    },
    {
      "cell_type": "code",
      "source": [
        "# view data last n rows using tail\n",
        "# if n = 3\n",
        "df.tail(3)"
      ],
      "metadata": {
        "id": "hjwrpCRCHaAW"
      },
      "execution_count": null,
      "outputs": []
    },
    {
      "cell_type": "code",
      "source": [
        "df.info()  # information"
      ],
      "metadata": {
        "id": "3Cyu95ChHiKu"
      },
      "execution_count": null,
      "outputs": []
    },
    {
      "cell_type": "code",
      "source": [
        "# to view dataframe attribute\n",
        "df.shape \n",
        "\n",
        "# (32, 12) : number of rows : 32 / number of columns = 12"
      ],
      "metadata": {
        "id": "an0V_oiIH-4g"
      },
      "execution_count": null,
      "outputs": []
    },
    {
      "cell_type": "code",
      "source": [
        "# to view data in descriptive statistics (summary statistics)\n",
        "df.describe()"
      ],
      "metadata": {
        "id": "eOjIn6_vIbP4"
      },
      "execution_count": null,
      "outputs": []
    },
    {
      "cell_type": "markdown",
      "source": [
        "### 04-1 Read CSV sample-SuperStore"
      ],
      "metadata": {
        "id": "ObSSAEgaI4i0"
      }
    },
    {
      "cell_type": "markdown",
      "source": [
        "we will demonstrate in reading csv file from local computer"
      ],
      "metadata": {
        "id": "UpjDWKxSJCY6"
      }
    },
    {
      "cell_type": "code",
      "source": [
        "# read csv from drive/ local\n",
        "store = pd.read_csv(\"/content/data_Live10/Sample SuperStore.csv\")"
      ],
      "metadata": {
        "id": "oXoc_D3gI0NN"
      },
      "execution_count": null,
      "outputs": []
    },
    {
      "cell_type": "code",
      "source": [
        "# to view first 5 row of data in \"store\"\n",
        "store.head()"
      ],
      "metadata": {
        "id": "CxKt7VJwJanM"
      },
      "execution_count": null,
      "outputs": []
    },
    {
      "cell_type": "markdown",
      "source": [
        "### 04-2 Replace , Filter , Value_count"
      ],
      "metadata": {
        "id": "_qY1rTKqUuPk"
      }
    },
    {
      "cell_type": "code",
      "source": [
        "# clean column name\n",
        "\n",
        "# to view all column name\n",
        "column_names = list(store.columns)\n",
        "print(\"column name :\",column_names)\n",
        "\n",
        "# creating clean name \n",
        "# 1. replace white space with underscore --> change all to lower case\n",
        "# 2. repalce \"- \" with underscore\n",
        "clean_names = []\n",
        "for col in column_names :\n",
        "    clean_names.append( col.replace(\" \" ,\"_\").lower().replace(\"-\",\"_\")   )\n",
        "\n",
        "print(clean_names)"
      ],
      "metadata": {
        "id": "CrbUMzsvJf-D"
      },
      "execution_count": null,
      "outputs": []
    },
    {
      "cell_type": "markdown",
      "source": [
        "การพิมพ์ object มีวงเล็บ (เช่น `store.head()` ) กับไม่มีวงเล็บ ( `store.columns`  ) ต่างกันอย่างไร?\n",
        "\n",
        "- มีวงเล็บ : method\n",
        "- ไม่มีวงเล็บ : attribute"
      ],
      "metadata": {
        "id": "-fgTlMQSKFXT"
      }
    },
    {
      "cell_type": "code",
      "source": [
        "# list comprehension \n",
        "clean_name_v2 = [ col.replace(\" \" ,\"_\").lower().replace(\"-\",\"_\")  for col in column_names ]\n",
        "print(clean_name_v2)\n",
        "\n",
        "# same result with original for loop : based on your preference"
      ],
      "metadata": {
        "id": "W4mbSolQM5ec"
      },
      "execution_count": null,
      "outputs": []
    },
    {
      "cell_type": "code",
      "source": [
        "# assign new column name\n",
        "\n",
        "## assign clean name back to original \"store\"\n",
        "store.columns = clean_name_v2\n",
        "store.head()"
      ],
      "metadata": {
        "id": "hTAh0OrPOHzx"
      },
      "execution_count": null,
      "outputs": []
    },
    {
      "cell_type": "code",
      "source": [
        "# select column\n",
        "store.columns\n",
        "\n",
        "# required columns : order_date , customer_name , segment , country\n"
      ],
      "metadata": {
        "id": "-8pt1nVWOna8"
      },
      "execution_count": null,
      "outputs": []
    },
    {
      "cell_type": "code",
      "source": [
        "# select column (ต่อ)\n",
        "column_i_want = ['order_date' ,'customer_name' ,'segment', 'country' , 'city']\n",
        "store2 = store[column_i_want]\n",
        "\n",
        "store2.head()"
      ],
      "metadata": {
        "id": "2QCpymS5O36G"
      },
      "execution_count": null,
      "outputs": []
    },
    {
      "cell_type": "code",
      "source": [
        "# filter rows\n",
        "# use querry\n",
        "\n",
        "## target : filter at city = \"Los Angeles\" only \n",
        "# How can we do ?\n",
        "\n",
        "store2.query(\" city == 'Los Angeles' \").head()  # condition\n",
        "\n",
        "\n"
      ],
      "metadata": {
        "id": "eKf505MhP-Xl"
      },
      "execution_count": null,
      "outputs": []
    },
    {
      "cell_type": "code",
      "source": [
        "# combine select column  + filter\n",
        "store.query(\"city == 'Los Angeles' \")[column_i_want]\n",
        "\n",
        "\n",
        "# column_i_want = ['order_date' ,'customer_name' ,'segment', 'country' , 'city']"
      ],
      "metadata": {
        "id": "o-w89js4QxDg"
      },
      "execution_count": null,
      "outputs": []
    },
    {
      "cell_type": "code",
      "source": [
        "# combine select column  + filter\n",
        "store.query(\"city == 'Los Angeles' \")[  ['order_date','customer_name']  ].head()"
      ],
      "metadata": {
        "id": "P_xC93WcROgZ"
      },
      "execution_count": null,
      "outputs": []
    },
    {
      "cell_type": "code",
      "source": [
        "# query mutiple condition\n",
        "# target : segment  = 'consumer' in 'Henderson'\n",
        "# select data where city == 'Henderson' and segment == 'Consumer' \n",
        "store.query(\"city == 'Henderson' & segment == 'Consumer' \")\n",
        "\n",
        "# we can view this data's shape by \n",
        "store.query(\"city == 'Henderson' & segment == 'Consumer' \").shape"
      ],
      "metadata": {
        "id": "jCdJ0fkoRn6Q"
      },
      "execution_count": null,
      "outputs": []
    },
    {
      "cell_type": "code",
      "source": [
        "# select data where city == 'Henderson' or segment == 'Consumer' \n",
        "store.query(\"city == 'Henderson' | segment == 'Consumer' \")\n",
        "\n",
        "# we can view this data's shape by \n",
        "store.query(\"city == 'Henderson' | segment == 'Consumer' \").shape"
      ],
      "metadata": {
        "id": "-NrGVLg1S70_"
      },
      "execution_count": null,
      "outputs": []
    },
    {
      "cell_type": "code",
      "source": [
        "# value_count\n",
        "store['city'].value_counts()\n",
        "\n",
        "# จงนับจำนวน value ของเมืองนั้นๆ "
      ],
      "metadata": {
        "id": "kUfMwq_sTMhl"
      },
      "execution_count": null,
      "outputs": []
    },
    {
      "cell_type": "code",
      "source": [
        "# top 5 citis with most orders\n",
        "store['city'].value_counts().head(5)\n",
        "\n",
        "# top 10 citis with most orders\n",
        "store['city'].value_counts().head(10)\n"
      ],
      "metadata": {
        "id": "5sFBHLCbTrzl"
      },
      "execution_count": null,
      "outputs": []
    },
    {
      "cell_type": "markdown",
      "source": [
        "### 04-3 Aggregation"
      ],
      "metadata": {
        "id": "d2TOrYbRVEDy"
      }
    },
    {
      "cell_type": "code",
      "source": [
        "# dataframe aggregation\n",
        "# SQL aggregate function ? : avg() , max() , min() , sum() , count() + groupby\n",
        "# avg sum min max count\n",
        "\n",
        "store.groupby('city')['sales'].sum()\n",
        "\n",
        "# ลำดับ group by column city -- > แล้วเข้าไปที่ column Sales -- > เพื่อหาผลรวม (sum)"
      ],
      "metadata": {
        "id": "Yp4ZVniOVDnw"
      },
      "execution_count": null,
      "outputs": []
    },
    {
      "cell_type": "code",
      "source": [
        "store.groupby('city')['profit'].sum()"
      ],
      "metadata": {
        "id": "l7-LMBM4T_4a"
      },
      "execution_count": null,
      "outputs": []
    },
    {
      "cell_type": "code",
      "source": [
        "# group by more than  1 column\n",
        "\n",
        "store.groupby(['city' ,'segment'])['sales'].sum()"
      ],
      "metadata": {
        "id": "cBT93LEtWbaU"
      },
      "execution_count": null,
      "outputs": []
    },
    {
      "cell_type": "code",
      "source": [
        "# group by more than  1 column + aggregate more than  1 column\n",
        "store.groupby(['city' ,'segment'])[['sales' , 'profit']].sum()"
      ],
      "metadata": {
        "id": "AbtDaYJzWz-K"
      },
      "execution_count": null,
      "outputs": []
    },
    {
      "cell_type": "code",
      "source": [
        "# group by more than  1 column + aggregate more than  1 aggregated value\n",
        "store.groupby(['city' ,'segment'])[['sales' , 'profit']].agg(['mean' ,'sum','min', 'max', 'count'])"
      ],
      "metadata": {
        "id": "KcuciPXjXDuY"
      },
      "execution_count": null,
      "outputs": []
    },
    {
      "cell_type": "code",
      "source": [
        "# reset index\n",
        "store.groupby(['city' ,'segment'])[['sales' , 'profit']].agg(['mean' ,'sum','min', 'max', 'count']).reset_index()"
      ],
      "metadata": {
        "id": "Zor-VU-nXtpl"
      },
      "execution_count": null,
      "outputs": []
    },
    {
      "cell_type": "code",
      "source": [
        "# continue typing code in a new line (for easy to read) and store value in object : result\n",
        "result = store.groupby(['city' ,'segment'])[['sales' , 'profit']]\\\n",
        "              .agg(['mean' ,'sum','min', 'max', 'count'])\\\n",
        "              .reset_index()\n",
        "\n",
        "# use backslash  แล้วเคาะ enter ลงมา : ตบ code เพื่อขึ้นบรรทัดใหม่"
      ],
      "metadata": {
        "id": "NpRaq2BRYESU"
      },
      "execution_count": null,
      "outputs": []
    },
    {
      "cell_type": "code",
      "source": [
        "# export result as csv file\n",
        "result.to_csv(\"data_Live10/agg_store.csv\")"
      ],
      "metadata": {
        "id": "01_wjQ8pZBkl"
      },
      "execution_count": null,
      "outputs": []
    },
    {
      "cell_type": "code",
      "source": [
        "# if you don't need column index\n",
        "# pls set index = false as below and export again\n",
        "result.to_csv(\"data_Live10/agg_store.csv\" , index =  False)\n",
        "\n",
        "# same with pivot table in excel"
      ],
      "metadata": {
        "id": "nErT7lwnmHX6"
      },
      "execution_count": null,
      "outputs": []
    },
    {
      "cell_type": "code",
      "source": [
        "# create  a new column\n",
        "df = store[['country','city' , 'sales']].head()\n",
        "\n",
        "# new column needed : sales + vat 15%\n",
        "df['sales_add_vat'] = df['sales']* 1.15\n",
        "df.head()"
      ],
      "metadata": {
        "id": "tTUsqY8HnGnl"
      },
      "execution_count": null,
      "outputs": []
    },
    {
      "cell_type": "code",
      "source": [
        "# drop columns\n",
        "df = df.drop(columns = ['country' ,'city'])\n",
        "df"
      ],
      "metadata": {
        "id": "GWky6GIUohN1"
      },
      "execution_count": null,
      "outputs": []
    },
    {
      "cell_type": "markdown",
      "source": [
        "## 05 Requests API"
      ],
      "metadata": {
        "id": "Yf4JkoD_BfJ6"
      }
    },
    {
      "cell_type": "markdown",
      "source": [
        "work with API\n",
        "\n",
        "API = Application Programminng Interface (เป็นวิธีการที่คอมพิวเตอร์ 2 เครื่อง ใช้คุยกัน )"
      ],
      "metadata": {
        "id": "49yhSFUoptVS"
      }
    },
    {
      "cell_type": "markdown",
      "source": [
        "เรายิง request ไปที่ server / server response กลับมาหาเรา"
      ],
      "metadata": {
        "id": "Tvo2VDN6xP5g"
      }
    },
    {
      "cell_type": "markdown",
      "source": [
        "![API.jpg](data:image/jpeg;base64,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)"
      ],
      "metadata": {
        "id": "jnj3ceb2rUea"
      }
    },
    {
      "cell_type": "markdown",
      "source": [
        "Source : https://swapi.dev/api/"
      ],
      "metadata": {
        "id": "16_nyub1r_rO"
      }
    },
    {
      "cell_type": "markdown",
      "source": [
        "More info about code HTTP status :\n",
        "\n",
        "https://en.wikipedia.org/wiki/List_of_HTTP_status_codes"
      ],
      "metadata": {
        "id": "IeIS4nD1tmFs"
      }
    },
    {
      "cell_type": "code",
      "source": [
        "# import library\n",
        "import requests  # Important \n",
        "import time # for decelerating time\n",
        "\n",
        " # ถ้าทุกคนยิงขอข้อมูลพร้อมๆ กัน  เราจึงต้องหน่วงเวลา เพื่อป้องกันเซิร์ฟล่ม \n",
        " # เช่น โหลดข้อมูลตัวแรก แล้วรอไป 2 วินาที ค่อยโหลดตัวถัดไป (Good Practice)"
      ],
      "metadata": {
        "id": "x6AQBpltnSw0"
      },
      "execution_count": null,
      "outputs": []
    },
    {
      "cell_type": "code",
      "source": [
        "# API end point : เส้น\n",
        "url = \"https://swapi.dev/api/people/1\""
      ],
      "metadata": {
        "id": "DPS-vUuEHJor"
      },
      "execution_count": null,
      "outputs": []
    },
    {
      "cell_type": "code",
      "source": [
        "# get request : การส่ง request ไปที่ตัว server ของเรา\n",
        "# assign our request value to object : response\n",
        "\n",
        "response = requests.get(url)\n",
        "response\n",
        "# request : successful : <Response [200]> --> OK it can be connected"
      ],
      "metadata": {
        "id": "JC7tvMb2svsf"
      },
      "execution_count": null,
      "outputs": []
    },
    {
      "cell_type": "code",
      "source": [
        "response.status_code\n",
        "# 200 -> OK"
      ],
      "metadata": {
        "id": "BOe38oSptzBO"
      },
      "execution_count": null,
      "outputs": []
    },
    {
      "cell_type": "code",
      "source": [
        "# to view inside the object :response\n",
        "response.text"
      ],
      "metadata": {
        "id": "bok2a4UwuLnZ"
      },
      "execution_count": null,
      "outputs": []
    },
    {
      "cell_type": "code",
      "source": [
        "# parsing in json form : for easier in reading\n",
        "json_response = response.json()"
      ],
      "metadata": {
        "id": "0tj92Z92udUM"
      },
      "execution_count": null,
      "outputs": []
    },
    {
      "cell_type": "code",
      "source": [
        "json_response['name']"
      ],
      "metadata": {
        "id": "p-TUF5iHuxOw"
      },
      "execution_count": null,
      "outputs": []
    },
    {
      "cell_type": "code",
      "source": [
        "json_response['height']"
      ],
      "metadata": {
        "id": "iCF-yQJdu3C7"
      },
      "execution_count": null,
      "outputs": []
    },
    {
      "cell_type": "code",
      "source": [
        "# change request from 1 to 4\n",
        "url = \"https://swapi.dev/api/people/4\""
      ],
      "metadata": {
        "id": "ueecORwqvDQZ"
      },
      "execution_count": null,
      "outputs": []
    },
    {
      "cell_type": "code",
      "source": [
        "response = requests.get(url)"
      ],
      "metadata": {
        "id": "D7iaitOmvMK_"
      },
      "execution_count": null,
      "outputs": []
    },
    {
      "cell_type": "code",
      "source": [
        "response.status_code"
      ],
      "metadata": {
        "id": "4nmhKXgOvOy_"
      },
      "execution_count": null,
      "outputs": []
    },
    {
      "cell_type": "code",
      "source": [
        "response.text"
      ],
      "metadata": {
        "id": "evcV79EuvP6U"
      },
      "execution_count": null,
      "outputs": []
    },
    {
      "cell_type": "code",
      "source": [
        "json_response = response.json()"
      ],
      "metadata": {
        "id": "db_xLNH8vP47"
      },
      "execution_count": null,
      "outputs": []
    },
    {
      "cell_type": "code",
      "source": [
        "json_response['name']"
      ],
      "metadata": {
        "id": "8gc523DbvTCV"
      },
      "execution_count": null,
      "outputs": []
    },
    {
      "cell_type": "code",
      "source": [
        "json_response['height']"
      ],
      "metadata": {
        "id": "_2ip2f94vUfa"
      },
      "execution_count": null,
      "outputs": []
    },
    {
      "cell_type": "markdown",
      "source": [
        "Can we send multiple API request ?\n"
      ],
      "metadata": {
        "id": "WGi0dpl5vrj0"
      }
    },
    {
      "cell_type": "code",
      "source": [
        "# API endpoint \n",
        "url = \"https://swapi.dev/api/people/\""
      ],
      "metadata": {
        "id": "g75bUf40vxi1"
      },
      "execution_count": null,
      "outputs": []
    },
    {
      "cell_type": "code",
      "source": [
        "# for loop\n",
        "# for 1-10 charracters \n",
        "# run loop เอาตัวเลขไปต่อท้าย\n",
        "# เราต้องการยิง endpoint สำหรับคาแรกเตอร์ตัวที่ 1 - 10\n",
        "for i in range(10):\n",
        "    new_url = url + str(i + 1)\n",
        "    response = requests.get(new_url)\n",
        "    name = response.json()['name']  # json == dict\n",
        "    print(name)\n",
        "    time.sleep(2) # two second : # Python will do nothing for 2 sec\n",
        "    \n",
        "\n",
        "\n",
        "    "
      ],
      "metadata": {
        "id": "f2cn0rF_vx2f"
      },
      "execution_count": null,
      "outputs": []
    },
    {
      "cell_type": "code",
      "source": [
        "# for loop\n",
        "# create a dataframe 4 col 10 records consisted of\n",
        "# name / height / mass / birth_year\n",
        "\n",
        "# start with create a empty list\n",
        "result = []\n",
        "\n",
        "for i in range(10):\n",
        "    new_url = url + str(i + 1)\n",
        "    response = requests.get(new_url)\n",
        "    response_json = response.json() # dict\n",
        "    data = [\n",
        "        response_json['name'] ,\n",
        "        response_json['height'],\n",
        "        response_json['mass'],\n",
        "        response_json['birth_year']\n",
        "    ]\n",
        "    result.append(data)\n",
        "    time.sleep(1) # two second : # Python will do nothing for 1 sec\n",
        "\n",
        "print(result)"
      ],
      "metadata": {
        "id": "4MD7Js_gy1em"
      },
      "execution_count": null,
      "outputs": []
    },
    {
      "cell_type": "code",
      "source": [
        "# create dataframe\n",
        "import pandas as pd\n",
        "result\n",
        "\n",
        "headers = ['Name' , 'Height','Mass','Birth Year' ]\n",
        "starwars = pd.DataFrame(  result , columns = headers   )\n",
        "starwars"
      ],
      "metadata": {
        "id": "n8krYuBwR-4X"
      },
      "execution_count": null,
      "outputs": []
    },
    {
      "cell_type": "code",
      "source": [
        "# export starwar dataframe\n",
        "starwars.to_csv(\"starwars.csv\" , index = False)"
      ],
      "metadata": {
        "id": "Xr0zy35CVFI6"
      },
      "execution_count": null,
      "outputs": []
    },
    {
      "cell_type": "markdown",
      "source": [
        "## 06 Basic Web Scraping"
      ],
      "metadata": {
        "id": "IkF9nmOwBhwt"
      }
    },
    {
      "cell_type": "code",
      "source": [
        "!pip install gazpacho\n",
        "\n",
        "# easier than bs4 (beautiful soup 4)"
      ],
      "metadata": {
        "id": "AL2HRNjKXOZG"
      },
      "execution_count": null,
      "outputs": []
    },
    {
      "cell_type": "code",
      "source": [
        "# import library\n",
        "import requests\n",
        "from gazpacho import Soup # import only soup function\n"
      ],
      "metadata": {
        "id": "xpgaM_zWXqHX"
      },
      "execution_count": null,
      "outputs": []
    },
    {
      "cell_type": "code",
      "source": [
        "url = \"https://www.imdb.com/search/title/?groups=top_100&sort=user_rating,desc\""
      ],
      "metadata": {
        "id": "VIf3fhxlYLLf"
      },
      "execution_count": null,
      "outputs": []
    },
    {
      "cell_type": "code",
      "source": [
        "response = requests.get(url)\n",
        "response.status_code # if status = 200 : request has been accepted"
      ],
      "metadata": {
        "id": "gM0a_dmPd65W"
      },
      "execution_count": null,
      "outputs": []
    },
    {
      "cell_type": "code",
      "source": [
        "response.text  # all data in that web has been scraped\n",
        "\n",
        "# function soup will change below text to other data structure type AKA soup"
      ],
      "metadata": {
        "id": "5h9TdFlyeLku"
      },
      "execution_count": null,
      "outputs": []
    },
    {
      "cell_type": "code",
      "source": [
        "# change text into soup structure\n",
        "\n",
        "# soup object\n",
        "imdb = Soup(response.text)"
      ],
      "metadata": {
        "id": "ORvTzzkjelwX"
      },
      "execution_count": null,
      "outputs": []
    },
    {
      "cell_type": "code",
      "source": [
        "type(imdb)"
      ],
      "metadata": {
        "id": "vnZ6HzFXe5pv"
      },
      "execution_count": null,
      "outputs": []
    },
    {
      "cell_type": "code",
      "source": [
        "# find the first h3\n",
        "imdb.find('h3' ,{'class' : \"lister-item-header\"}, mode = \"first\")\n",
        "\n",
        "# after this code being run : only h3 class : \"lister-item-header\" will be scraped \n",
        "# add mode first to preview data"
      ],
      "metadata": {
        "id": "jmhUfdjyfEri"
      },
      "execution_count": null,
      "outputs": []
    },
    {
      "cell_type": "code",
      "source": [
        "# find the first h 3 (without html tag)\n",
        "# to eliminate all html tag for above assignment\n",
        "imdb.find('h3' ,{'class' : \"lister-item-header\"}, mode = \"first\").strip()"
      ],
      "metadata": {
        "id": "dXosORDNf31r"
      },
      "execution_count": null,
      "outputs": []
    },
    {
      "cell_type": "code",
      "source": [
        "# get title movie name (method long for loop)\n",
        "\n",
        "# if mode first is ok , we can continue to deal with other 99 movies\n",
        "titles = imdb.find('h3' ,{'class' : \"lister-item-header\"})\n",
        "for title in titles :\n",
        "    print(title.strip())"
      ],
      "metadata": {
        "id": "LZHhnzRdgOSa"
      },
      "execution_count": null,
      "outputs": []
    },
    {
      "cell_type": "code",
      "source": [
        "# get title movie name (method for loop in list comprehension)\n",
        "\n",
        "# if mode first is ok , we can continue to deal with other 99 movies\n",
        "titles = imdb.find('h3' ,{'class' : \"lister-item-header\"})\n",
        "\n",
        "# try to run in list comprehension  # rearrange or # refractor our code\n",
        "clean_titles = [ title.strip() for title in titles     ]\n",
        "print(clean_titles)"
      ],
      "metadata": {
        "id": "UrKUMBR3g5L2"
      },
      "execution_count": null,
      "outputs": []
    },
    {
      "cell_type": "code",
      "source": [
        "# get run time\n",
        "runtimes =  imdb.find('span' , {'class' : 'runtime'})\n",
        "\n",
        "# use list comprehension to create clean_runtimes\n",
        "clean_runtimes = [ runtime.strip()   for runtime in runtimes   ]\n",
        "print(clean_runtimes)"
      ],
      "metadata": {
        "id": "YI8G4AOUhYEZ"
      },
      "execution_count": null,
      "outputs": []
    },
    {
      "cell_type": "code",
      "source": [
        "# from clean_runtimes : we need to remove spece & 'min' \n",
        "# How can we do ?\n",
        "\n",
        "# it is string method : we can use replace function\n",
        "clean_runtimes = [ runtime.strip().replace(\" min\",\"\")   for runtime in runtimes   ]\n",
        "\n",
        "\n",
        "# we can also convert string to integer as below\n",
        "clean_runtimes = [ int(  runtime.strip().replace(\" min\",\"\")   )   for runtime in runtimes   ]\n",
        "print(clean_runtimes)\n"
      ],
      "metadata": {
        "id": "aMPFK2m_jj4I"
      },
      "execution_count": null,
      "outputs": []
    },
    {
      "cell_type": "code",
      "source": [
        "# combine clean_titles +  clean_runtimes into same dataframe\n",
        "\n",
        "# can we do it ?\n",
        "\n",
        "# we need to confirm by checking length \n",
        "print(len(clean_runtimes) == len(clean_titles))"
      ],
      "metadata": {
        "id": "lsgqHG6Ike-8"
      },
      "execution_count": null,
      "outputs": []
    },
    {
      "cell_type": "code",
      "source": [
        "# creat dataframe\n",
        "imdb_df = pd.DataFrame(\n",
        "    {\n",
        "        \"title\" : clean_titles ,\n",
        "        \"runtime\" : clean_runtimes\n",
        "    }\n",
        ")\n"
      ],
      "metadata": {
        "id": "GloYYHIBlJl2"
      },
      "execution_count": null,
      "outputs": []
    },
    {
      "cell_type": "code",
      "source": [
        "# try to preview data\n",
        "imdb_df.head(10)"
      ],
      "metadata": {
        "id": "1npZZUz3lmKV"
      },
      "execution_count": null,
      "outputs": []
    },
    {
      "cell_type": "markdown",
      "source": [
        "## 07 Working with SQL database (SQLite)"
      ],
      "metadata": {
        "id": "RPuER2wIBoJ3"
      }
    },
    {
      "cell_type": "code",
      "source": [
        "# import library\n",
        "import sqlite3"
      ],
      "metadata": {
        "id": "zEKC51NNm9eC"
      },
      "execution_count": null,
      "outputs": []
    },
    {
      "cell_type": "code",
      "source": [
        "# create connection\n",
        "con = sqlite3.connect('employee.db')"
      ],
      "metadata": {
        "id": "q9maLQMuovbo"
      },
      "execution_count": null,
      "outputs": []
    },
    {
      "cell_type": "code",
      "source": [
        "# print connection : con\n",
        "con"
      ],
      "metadata": {
        "id": "H2V1MA0ao63f"
      },
      "execution_count": null,
      "outputs": []
    },
    {
      "cell_type": "code",
      "source": [
        "# create cursor :cur --\n",
        "# use cursor to execute SQL commands\n",
        "cur = con.cursor()\n",
        "cur "
      ],
      "metadata": {
        "id": "w5Y_QGbFo_wu"
      },
      "execution_count": null,
      "outputs": []
    },
    {
      "cell_type": "code",
      "source": [
        "# create connection\n",
        "con = sqlite3.connect('employee.db')\n",
        "\n",
        "# create cursor \n",
        "## use cursor to execute SQL commands\n",
        "cur = con.cursor()\n",
        "\n",
        "cur.execute(\"create table department (id int , dept text) \")\n",
        "\n",
        "cur.execute(\"\"\"insert into department values \n",
        "                (1 , 'data' ) , \n",
        "                (2 , 'Finance') , \n",
        "                (3 , 'Marketing')\n",
        "            \"\"\")\n",
        "con.commit()  # commit change\n",
        "con.close()"
      ],
      "metadata": {
        "id": "p0VEPm22pR-f"
      },
      "execution_count": null,
      "outputs": []
    },
    {
      "cell_type": "code",
      "source": [
        "# get data from employee.db\n",
        "con = sqlite3.connect('employee.db')\n",
        "cur = con.cursor()\n",
        "cur.execute(\"select * from department\")\n",
        "result = cur.fetchall() # get data and store it to result\n",
        "\n",
        "for row in result :\n",
        "    print(row)\n",
        "\n",
        "con.close()"
      ],
      "metadata": {
        "colab": {
          "base_uri": "https://localhost:8080/"
        },
        "id": "gNr4VJ_KroGA",
        "outputId": "d48664fe-b955-4f0e-b1a5-0aea60d28fbb"
      },
      "execution_count": null,
      "outputs": [
        {
          "output_type": "stream",
          "name": "stdout",
          "text": [
            "(1, 'data')\n",
            "(2, 'Finance')\n",
            "(3, 'Marketing')\n"
          ]
        }
      ]
    },
    {
      "cell_type": "markdown",
      "source": [
        "we can use pandas to connect & manipulate database chinook.db as below"
      ],
      "metadata": {
        "id": "g7theNkgsl94"
      }
    },
    {
      "cell_type": "code",
      "source": [
        "import pandas as pd\n",
        "import sqlite3\n"
      ],
      "metadata": {
        "id": "tWkfbn0PsvZP"
      },
      "execution_count": null,
      "outputs": []
    },
    {
      "cell_type": "code",
      "source": [
        "# create connection\n",
        "con = sqlite3.connect('chinook.db')"
      ],
      "metadata": {
        "id": "CbM8ijmms1Jx"
      },
      "execution_count": null,
      "outputs": []
    },
    {
      "cell_type": "code",
      "source": [
        "customer = pd.read_sql_query(\"select FirstName , LastName , Country , Phone from customers limit 5\", con)\n",
        "print(customer)\n",
        "\n"
      ],
      "metadata": {
        "colab": {
          "base_uri": "https://localhost:8080/"
        },
        "id": "Q-qvt5CytHXS",
        "outputId": "7ef4dbdd-5e9a-47ca-ee19-695d6a402da9"
      },
      "execution_count": null,
      "outputs": [
        {
          "output_type": "stream",
          "name": "stdout",
          "text": [
            "   FirstName     LastName         Country               Phone\n",
            "0       Luís    Gonçalves          Brazil  +55 (12) 3923-5555\n",
            "1     Leonie       Köhler         Germany    +49 0711 2842222\n",
            "2   François     Tremblay          Canada   +1 (514) 721-4711\n",
            "3      Bjørn       Hansen          Norway     +47 22 44 22 22\n",
            "4  František  Wichterlová  Czech Republic    +420 2 4172 5555\n"
          ]
        }
      ]
    },
    {
      "cell_type": "code",
      "source": [
        "# close connection when you finish\n",
        "con.close() # หลังจากดึงข้อมูลที่มาดูแล้ว ต้องปิด db ทุกครั้ง"
      ],
      "metadata": {
        "id": "4KyiCGY9uFIt"
      },
      "execution_count": null,
      "outputs": []
    },
    {
      "cell_type": "markdown",
      "source": [
        "## 08 Homework\n",
        "\n",
        "- ใช้ความรู้จากบทที่ 5 : Request API\n",
        "- Remark : อ่าน doc ก่อนใช้งาน เพื่อความเข้าใจที่มากขึ้น\n",
        "\n",
        "ขั้นตอนการทำ\n",
        "- Searching for Free API example\n",
        "- ลองสร้าง dataframe + เขียน API connect ไปที่ตัวพวกนี้ แล้วลองดึงข้อมูลเข้ามา\n",
        "- save as csv file "
      ],
      "metadata": {
        "id": "ahmgQObSViKw"
      }
    },
    {
      "cell_type": "code",
      "source": [
        ""
      ],
      "metadata": {
        "id": "hWGNF6Qo_oIv"
      },
      "execution_count": null,
      "outputs": []
    }
  ]
}