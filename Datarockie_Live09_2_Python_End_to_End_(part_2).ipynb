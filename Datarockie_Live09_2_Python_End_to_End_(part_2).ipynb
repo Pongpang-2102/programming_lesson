{
  "nbformat": 4,
  "nbformat_minor": 0,
  "metadata": {
    "colab": {
      "name": "Datarockie_Live09.2 Python End to End (part 2).ipynb",
      "provenance": [],
      "collapsed_sections": [],
      "authorship_tag": "ABX9TyM+M+SuVIhTXN+x0aIKqs0R",
      "include_colab_link": true
    },
    "kernelspec": {
      "name": "python3",
      "display_name": "Python 3"
    },
    "language_info": {
      "name": "python"
    }
  },
  "cells": [
    {
      "cell_type": "markdown",
      "metadata": {
        "id": "view-in-github",
        "colab_type": "text"
      },
      "source": [
        "<a href=\"https://colab.research.google.com/github/Pongpang-2102/programming_lesson/blob/main/Datarockie_Live09_2_Python_End_to_End_(part_2).ipynb\" target=\"_parent\"><img src=\"https://colab.research.google.com/assets/colab-badge.svg\" alt=\"Open In Colab\"/></a>"
      ]
    },
    {
      "cell_type": "markdown",
      "source": [
        "# **Live 09 Python End to End**"
      ],
      "metadata": {
        "id": "MTZRK-VLnqkE"
      }
    },
    {
      "cell_type": "markdown",
      "source": [
        "# **Python End to End (part 2)**\n",
        "\n",
        "- f-strings \n",
        "- string methods\n",
        "- nested dictionary\n",
        "- functions , try-catch\n",
        "- lambda\n",
        "- list & comprehension\n",
        "- OOP & Class\n",
        "- ATM Mini Project\n",
        "\n"
      ],
      "metadata": {
        "id": "BuralSNLnK9d"
      }
    },
    {
      "cell_type": "markdown",
      "source": [
        "## f-String & Function"
      ],
      "metadata": {
        "id": "Uiyk-Z2frs9N"
      }
    },
    {
      "cell_type": "code",
      "execution_count": null,
      "metadata": {
        "colab": {
          "base_uri": "https://localhost:8080/"
        },
        "id": "doSkRHQHm8da",
        "outputId": "8f751eff-9f37-4d36-a8de-a3ab735fb0be"
      },
      "outputs": [
        {
          "output_type": "stream",
          "name": "stdout",
          "text": [
            "hello world hello world\n"
          ]
        }
      ],
      "source": [
        "# f-string  template :\n",
        "# for working with string in Python\n",
        "x = 'hello world'\n",
        "y = \"hello world\"\n",
        "\n",
        "# we can print x and y in the same time\n",
        "print (x , y) "
      ]
    },
    {
      "cell_type": "code",
      "source": [
        "# we can bring x to sum with y \n",
        "print(x + y)"
      ],
      "metadata": {
        "colab": {
          "base_uri": "https://localhost:8080/"
        },
        "id": "riwaTaoanmTF",
        "outputId": "6d4572f3-1541-4d03-ed4f-0a44eed40648"
      },
      "execution_count": null,
      "outputs": [
        {
          "output_type": "stream",
          "name": "stdout",
          "text": [
            "hello worldhello world\n"
          ]
        }
      ]
    },
    {
      "cell_type": "code",
      "source": [
        "# try to change word in y \n",
        "y = \" This is python Class!!\"\n",
        "\n",
        "# and try to print x + y  again\n",
        "print(x + y)\n",
        "\n",
        "# r cannot bring str to sum with str"
      ],
      "metadata": {
        "colab": {
          "base_uri": "https://localhost:8080/"
        },
        "id": "mEmzkhJLoov2",
        "outputId": "f509dccc-817b-4fb7-a6c2-0b2d2b98afb6"
      },
      "execution_count": null,
      "outputs": [
        {
          "output_type": "stream",
          "name": "stdout",
          "text": [
            "hello world This is python Class!!\n"
          ]
        }
      ]
    },
    {
      "cell_type": "markdown",
      "source": [
        "How about f string ???\n"
      ],
      "metadata": {
        "id": "dsTj5U8wpIS_"
      }
    },
    {
      "cell_type": "code",
      "source": [
        "my_name  = \"Toy\"\n",
        "my_age  = 33\n",
        "my_favorite_language = \"R\"\n",
        "\n",
        "# in long string / using \"\"\"  \"\"\" (or triple code ) we can enter to add a string in a new line\n",
        "# try to create f string\n",
        "text = f\"\"\"Hello my name is {my_name}. I'm {my_age} years old \n",
        "and my favorite language is {my_favorite_language}. \"\"\"  \n",
        "\n",
        "# { } in this case is placeholder\n",
        "\n",
        "print(text)"
      ],
      "metadata": {
        "colab": {
          "base_uri": "https://localhost:8080/"
        },
        "id": "-ZQWIgUOpL23",
        "outputId": "349d4b88-dab9-4a0c-cde8-0accae4a5f13"
      },
      "execution_count": null,
      "outputs": [
        {
          "output_type": "stream",
          "name": "stdout",
          "text": [
            "Hello my name is Toy. I'm 33 years old \n",
            "and my favorite language is R. \n"
          ]
        }
      ]
    },
    {
      "cell_type": "code",
      "source": [
        "# use f string \n",
        "# to define a new function\n",
        "\n",
        "def greeting (name) :\n",
        "    return f\"Hello! {name}\"\n",
        "\n",
        "# test function\n",
        "greeting(\"Pongpang\")\n"
      ],
      "metadata": {
        "colab": {
          "base_uri": "https://localhost:8080/",
          "height": 35
        },
        "id": "UX-yEAKXq8vR",
        "outputId": "0776acae-3a3f-4558-8047-8397c1c52223"
      },
      "execution_count": null,
      "outputs": [
        {
          "output_type": "execute_result",
          "data": {
            "text/plain": [
              "'Hello! Pongpang'"
            ],
            "application/vnd.google.colaboratory.intrinsic+json": {
              "type": "string"
            }
          },
          "metadata": {},
          "execution_count": 11
        }
      ]
    },
    {
      "cell_type": "markdown",
      "source": [
        "## String Method"
      ],
      "metadata": {
        "id": "GnN_We8Rq10A"
      }
    },
    {
      "cell_type": "code",
      "source": [
        "# string method\n",
        "\n",
        "# what is method ?\n",
        " \n",
        "\n",
        "\n",
        "\n",
        "# try to create a list of friends\n",
        "friends = ['Aan', 'Ink' ,'Zue']\n",
        "\n",
        "# try to append friends named \"Ball\" as the last friends list members\n",
        "friends.append('Ball')\n",
        "\n",
        "# try to view all members in friends list\n",
        "print(friends)"
      ],
      "metadata": {
        "colab": {
          "base_uri": "https://localhost:8080/"
        },
        "id": "qt9pTzyoroqO",
        "outputId": "824c4e0f-3bd9-4f1c-cda4-25af21bb594f"
      },
      "execution_count": null,
      "outputs": [
        {
          "output_type": "stream",
          "name": "stdout",
          "text": [
            "['Aan', 'Ink', 'Zue', 'Ball']\n"
          ]
        }
      ]
    },
    {
      "cell_type": "code",
      "source": [
        "friends.append('Toy')\n",
        "print(friends)\n",
        "print(type(friends))\n",
        "\n"
      ],
      "metadata": {
        "colab": {
          "base_uri": "https://localhost:8080/"
        },
        "id": "7ijbVkzrtAQQ",
        "outputId": "1fd73918-53db-48fa-b041-3909bccd0421"
      },
      "execution_count": null,
      "outputs": [
        {
          "output_type": "stream",
          "name": "stdout",
          "text": [
            "['Aan', 'Ink', 'Zue', 'Ball', 'Toy', 'Toy']\n",
            "<class 'list'>\n"
          ]
        }
      ]
    },
    {
      "cell_type": "markdown",
      "source": [
        "`method` คือ ฟังก์ชันที่ถูกสร้างขึ้นมาสำหรับ `Object class นั้นๆ `\n",
        "\n",
        "จากข้างบน friends จะมี type เป็น list\n",
        "ส่วน append ก็คือฟังก์ชั่นที่ถูกสร้างขึ้นมาสำหรับ list ตัวดังกล่าว"
      ],
      "metadata": {
        "id": "ExxmOaABsrbz"
      }
    },
    {
      "cell_type": "code",
      "source": [
        "# to view method at string\n",
        "\n",
        "\n",
        "my_name = \"Python\"\n",
        "print(my_name[0])\n",
        "\n",
        "# How about this ?\n",
        "# my_name[0] = \"S\"  -- > it would be error\n",
        "\n",
        "\n",
        "# String is immutable\n",
        "\n"
      ],
      "metadata": {
        "colab": {
          "base_uri": "https://localhost:8080/"
        },
        "id": "6oBswMWuropL",
        "outputId": "9dfa7c1a-a909-46f2-ae5b-8566bee5255e"
      },
      "execution_count": null,
      "outputs": [
        {
          "output_type": "stream",
          "name": "stdout",
          "text": [
            "P\n"
          ]
        }
      ]
    },
    {
      "cell_type": "code",
      "source": [
        "# How to replace P with S\n",
        "# we may create a new list toghether with slicing\n",
        "my_new_name = \"S\" + my_name[1:]\n",
        "print(my_new_name)\n"
      ],
      "metadata": {
        "colab": {
          "base_uri": "https://localhost:8080/"
        },
        "id": "szI0iF_6tmeC",
        "outputId": "253b8d20-ae67-4124-a342-1f8727320722"
      },
      "execution_count": null,
      "outputs": [
        {
          "output_type": "stream",
          "name": "stdout",
          "text": [
            "Sython\n"
          ]
        }
      ]
    },
    {
      "cell_type": "code",
      "source": [
        "# string method\n",
        "text = \"a duck walks into a bar\"\n"
      ],
      "metadata": {
        "id": "GUfeoArSxg7v"
      },
      "execution_count": null,
      "outputs": []
    },
    {
      "cell_type": "code",
      "source": [
        "# How about changing text to an uppercase\n",
        "text.upper()"
      ],
      "metadata": {
        "colab": {
          "base_uri": "https://localhost:8080/",
          "height": 35
        },
        "id": "kLyPeG5zxoS5",
        "outputId": "20c258f4-b9e7-4d12-d47b-3e639d54705a"
      },
      "execution_count": null,
      "outputs": [
        {
          "output_type": "execute_result",
          "data": {
            "text/plain": [
              "'A DUCK WALKS INTO A BAR'"
            ],
            "application/vnd.google.colaboratory.intrinsic+json": {
              "type": "string"
            }
          },
          "metadata": {},
          "execution_count": 29
        }
      ]
    },
    {
      "cell_type": "code",
      "source": [
        "# to capitalize :\n",
        "#  first char will be changed to  uppercase\n",
        "\n",
        "text.capitalize()"
      ],
      "metadata": {
        "colab": {
          "base_uri": "https://localhost:8080/",
          "height": 35
        },
        "id": "RT0PtTslxspd",
        "outputId": "b9cb8f7b-0912-4bbb-ef76-600ee0fc3637"
      },
      "execution_count": null,
      "outputs": [
        {
          "output_type": "execute_result",
          "data": {
            "text/plain": [
              "'A duck walks into a bar'"
            ],
            "application/vnd.google.colaboratory.intrinsic+json": {
              "type": "string"
            }
          },
          "metadata": {},
          "execution_count": 30
        }
      ]
    },
    {
      "cell_type": "code",
      "source": [
        "# lowering our string\n",
        "\"Hello \".lower()"
      ],
      "metadata": {
        "colab": {
          "base_uri": "https://localhost:8080/",
          "height": 35
        },
        "id": "boQzbUK-yLXC",
        "outputId": "2af46a7f-7e34-4189-d382-fd22e02a9271"
      },
      "execution_count": null,
      "outputs": [
        {
          "output_type": "execute_result",
          "data": {
            "text/plain": [
              "'hello '"
            ],
            "application/vnd.google.colaboratory.intrinsic+json": {
              "type": "string"
            }
          },
          "metadata": {},
          "execution_count": 31
        }
      ]
    },
    {
      "cell_type": "code",
      "source": [
        "# How to change \"duck\" in text to \"tiger\"\n",
        "# using replace\n",
        "text.replace(\"duck\",\"tiger\")"
      ],
      "metadata": {
        "colab": {
          "base_uri": "https://localhost:8080/",
          "height": 35
        },
        "id": "Xu2sq2CFyUNn",
        "outputId": "1f56535f-2eac-4689-bf38-6c7461fc7de7"
      },
      "execution_count": null,
      "outputs": [
        {
          "output_type": "execute_result",
          "data": {
            "text/plain": [
              "'a tiger walks into a bar'"
            ],
            "application/vnd.google.colaboratory.intrinsic+json": {
              "type": "string"
            }
          },
          "metadata": {},
          "execution_count": 32
        }
      ]
    },
    {
      "cell_type": "code",
      "source": [
        "print(text)\n",
        "\n",
        "# string is immutable \n",
        "# it cannot use replace to chage str permenently"
      ],
      "metadata": {
        "colab": {
          "base_uri": "https://localhost:8080/"
        },
        "id": "u9ViXUfQyqWO",
        "outputId": "7f6ded69-7aee-46e2-f509-6358e1afafca"
      },
      "execution_count": null,
      "outputs": [
        {
          "output_type": "stream",
          "name": "stdout",
          "text": [
            "a duck walks into a bar\n"
          ]
        }
      ]
    },
    {
      "cell_type": "code",
      "source": [
        "# if we would like to permanently changed \n",
        "# we neeed to reassign a new value back to original variable (it would be overwritten)\n",
        "text = text.replace(\"duck\",\"tiger\")\n",
        "print(text)"
      ],
      "metadata": {
        "colab": {
          "base_uri": "https://localhost:8080/"
        },
        "id": "Vr2cvQgjy8Bu",
        "outputId": "affd7647-009b-4ff5-940c-ad6a52d02a3e"
      },
      "execution_count": null,
      "outputs": [
        {
          "output_type": "stream",
          "name": "stdout",
          "text": [
            "a tiger walks into a bar\n"
          ]
        }
      ]
    },
    {
      "cell_type": "code",
      "source": [
        "# splitting text\n",
        "\n",
        "# whenever spacebar was found --> split it\n",
        "text.split(\" \")"
      ],
      "metadata": {
        "colab": {
          "base_uri": "https://localhost:8080/"
        },
        "id": "3qxuF-mXznaE",
        "outputId": "12ecf88e-d835-4ef2-afef-fd4d821a1bb4"
      },
      "execution_count": null,
      "outputs": [
        {
          "output_type": "execute_result",
          "data": {
            "text/plain": [
              "['a', 'tiger', 'walks', 'into', 'a', 'bar']"
            ]
          },
          "metadata": {},
          "execution_count": 35
        }
      ]
    },
    {
      "cell_type": "code",
      "source": [
        "list_text = text.split(\" \")\n",
        "print(list_text)"
      ],
      "metadata": {
        "colab": {
          "base_uri": "https://localhost:8080/"
        },
        "id": "pI2JWFMiz4tq",
        "outputId": "f9d76e98-18a6-408e-b6d6-1c1ed59b96d2"
      },
      "execution_count": null,
      "outputs": [
        {
          "output_type": "stream",
          "name": "stdout",
          "text": [
            "['a', 'tiger', 'walks', 'into', 'a', 'bar']\n"
          ]
        }
      ]
    },
    {
      "cell_type": "code",
      "source": [
        "# join word in a list using \" \"\n",
        "\n",
        "# to join string in same list together\n",
        "\"-\".join(list_text)\n",
        "\"___\".join(list_text)\n",
        "\" \".join(list_text)"
      ],
      "metadata": {
        "colab": {
          "base_uri": "https://localhost:8080/",
          "height": 35
        },
        "id": "GdRuAjhL0Ij-",
        "outputId": "35fc41bd-7452-4cfa-c630-f8c8f8cf01d5"
      },
      "execution_count": null,
      "outputs": [
        {
          "output_type": "execute_result",
          "data": {
            "text/plain": [
              "'a tiger walks into a bar'"
            ],
            "application/vnd.google.colaboratory.intrinsic+json": {
              "type": "string"
            }
          },
          "metadata": {},
          "execution_count": 40
        }
      ]
    },
    {
      "cell_type": "code",
      "source": [
        "# try to combine all together\n",
        "text;\n",
        "text.replace(\"tiger\",\"hippo\").upper().split(\" \")\n"
      ],
      "metadata": {
        "colab": {
          "base_uri": "https://localhost:8080/"
        },
        "id": "GCBPG-z31SsQ",
        "outputId": "d6521c0c-de2a-4aae-a071-56144e67982e"
      },
      "execution_count": null,
      "outputs": [
        {
          "output_type": "execute_result",
          "data": {
            "text/plain": [
              "['A', 'HIPPO', 'WALKS', 'INTO', 'A', 'BAR']"
            ]
          },
          "metadata": {},
          "execution_count": 42
        }
      ]
    },
    {
      "cell_type": "markdown",
      "source": [
        "## Nested Dictionary"
      ],
      "metadata": {
        "id": "FysUCiKc05Ax"
      }
    },
    {
      "cell_type": "code",
      "source": [
        "# nested dictionary \n",
        "# use key-value pair concept\n",
        "\n",
        "player_01 = {\n",
        "    \"fname\" : \"David\" ,\n",
        "    \"lname\" : \"Beckham\" ,\n",
        "    \"clubs\" : [\"Man United\" , \"Real Madrid\"] ,\n",
        "}\n",
        "\n",
        "player_02 = {\n",
        "    \"fname\" : \"Christiano\",\n",
        "    \"lname\" : \"Ronaldo\" ,\n",
        "    \"clubs\" : [\"Man United\" ,\"Real Madrid\" , \"Juventus\"] ,\n",
        "    \"prize\" : True ,\n",
        "    \"gamer\" : True\n",
        "}\n"
      ],
      "metadata": {
        "id": "KuMXPkTm0bYf"
      },
      "execution_count": null,
      "outputs": []
    },
    {
      "cell_type": "code",
      "source": [
        "# try to create a new object : all_players\n",
        "all_players = {\n",
        "    \"01\" : player_01,\n",
        "    \"02\" : player_02\n",
        "    }\n",
        "\n",
        "all_players\n",
        "\n",
        "# structure will be same as JSON file\n",
        "# JSON : JavaScript Object Notation"
      ],
      "metadata": {
        "colab": {
          "base_uri": "https://localhost:8080/"
        },
        "id": "jhYkgkoR3It7",
        "outputId": "55519f3c-2ebd-4abf-b307-c97df7d71ba1"
      },
      "execution_count": null,
      "outputs": [
        {
          "output_type": "execute_result",
          "data": {
            "text/plain": [
              "{'01': {'clubs': ['Man United', 'Real Madrid'],\n",
              "  'fname': 'David',\n",
              "  'lname': 'Beckham'},\n",
              " '02': {'clubs': ['Man United', 'Real Madrid', 'Juventus'],\n",
              "  'fname': 'Christiano',\n",
              "  'gamer': True,\n",
              "  'lname': 'Ronaldo',\n",
              "  'prize': True}}"
            ]
          },
          "metadata": {},
          "execution_count": 45
        }
      ]
    },
    {
      "cell_type": "code",
      "source": [
        "# extract data from all_players\n",
        "\n",
        "# How to extract player_01 \"Beckham\"\n",
        "all_players[\"01\"]\n",
        "\n"
      ],
      "metadata": {
        "colab": {
          "base_uri": "https://localhost:8080/"
        },
        "id": "shRCv7DH31Js",
        "outputId": "dd9f4553-b657-43da-a1db-0d5813afdc66"
      },
      "execution_count": null,
      "outputs": [
        {
          "output_type": "execute_result",
          "data": {
            "text/plain": [
              "{'clubs': ['Man United', 'Real Madrid'], 'fname': 'David', 'lname': 'Beckham'}"
            ]
          },
          "metadata": {},
          "execution_count": 46
        }
      ]
    },
    {
      "cell_type": "code",
      "source": [
        "# How to extract player_01 (Beckham)'s clubs\n",
        "all_players[\"01\"][\"clubs\"]"
      ],
      "metadata": {
        "colab": {
          "base_uri": "https://localhost:8080/"
        },
        "id": "2GzWMJFb4abd",
        "outputId": "75e858f5-f9d5-49b5-fbc6-893b425c3701"
      },
      "execution_count": null,
      "outputs": [
        {
          "output_type": "execute_result",
          "data": {
            "text/plain": [
              "['Man United', 'Real Madrid']"
            ]
          },
          "metadata": {},
          "execution_count": 47
        }
      ]
    },
    {
      "cell_type": "code",
      "source": [
        "# How to extract player_01 (Beckham)'s second clubs\n",
        "all_players[\"01\"][\"clubs\"][1]"
      ],
      "metadata": {
        "colab": {
          "base_uri": "https://localhost:8080/",
          "height": 35
        },
        "id": "_VEbo-rN4mS9",
        "outputId": "9e00b917-3bd1-4f8d-b112-563a17719daf"
      },
      "execution_count": null,
      "outputs": [
        {
          "output_type": "execute_result",
          "data": {
            "text/plain": [
              "'Real Madrid'"
            ],
            "application/vnd.google.colaboratory.intrinsic+json": {
              "type": "string"
            }
          },
          "metadata": {},
          "execution_count": 48
        }
      ]
    },
    {
      "cell_type": "code",
      "source": [
        "# input wrong key : error\n",
        "player_01[\"firstname\"]"
      ],
      "metadata": {
        "colab": {
          "base_uri": "https://localhost:8080/",
          "height": 165
        },
        "id": "AfERVhBK45xu",
        "outputId": "142455ee-989f-4a1f-baf9-bf9c8b3873fb"
      },
      "execution_count": null,
      "outputs": [
        {
          "output_type": "error",
          "ename": "KeyError",
          "evalue": "ignored",
          "traceback": [
            "\u001b[0;31m---------------------------------------------------------------------------\u001b[0m",
            "\u001b[0;31mKeyError\u001b[0m                                  Traceback (most recent call last)",
            "\u001b[0;32m<ipython-input-51-fadcf3e683aa>\u001b[0m in \u001b[0;36m<module>\u001b[0;34m()\u001b[0m\n\u001b[0;32m----> 1\u001b[0;31m \u001b[0mplayer_01\u001b[0m\u001b[0;34m[\u001b[0m\u001b[0;34m\"firstname\"\u001b[0m\u001b[0;34m]\u001b[0m\u001b[0;34m\u001b[0m\u001b[0;34m\u001b[0m\u001b[0m\n\u001b[0m",
            "\u001b[0;31mKeyError\u001b[0m: 'firstname'"
          ]
        }
      ]
    },
    {
      "cell_type": "code",
      "source": [
        "# Hw to input key without error : .get()\n",
        "# using .get() : \n",
        "## if key is correct : return value\n",
        "## if key is incorrect : return NONE\n",
        "\n",
        "# start with input correct key\n",
        "player_01.get(\"fname\")"
      ],
      "metadata": {
        "colab": {
          "base_uri": "https://localhost:8080/",
          "height": 35
        },
        "id": "A6rhTCLU5NQh",
        "outputId": "d0d6ad4e-d309-4119-ef0f-b0704528c129"
      },
      "execution_count": null,
      "outputs": [
        {
          "output_type": "execute_result",
          "data": {
            "text/plain": [
              "'David'"
            ],
            "application/vnd.google.colaboratory.intrinsic+json": {
              "type": "string"
            }
          },
          "metadata": {},
          "execution_count": 53
        }
      ]
    },
    {
      "cell_type": "code",
      "source": [
        "# How about using .get()  with incorrect key\n",
        "player_01.get(\"firstname\")\n",
        "\n",
        "# No any result !!!!"
      ],
      "metadata": {
        "id": "iE9U4oV_5sRU"
      },
      "execution_count": null,
      "outputs": []
    },
    {
      "cell_type": "code",
      "source": [
        "# we can add more argument in case of not found istead of returning NONE\n",
        "# try to add \"Not found\" in case of NONE\n",
        "player_01.get(\"firstname\" ,\"Not found\")\n",
        "\n",
        "# .get() : does not produce error \n",
        "# our code will continue running for other parts"
      ],
      "metadata": {
        "colab": {
          "base_uri": "https://localhost:8080/",
          "height": 35
        },
        "id": "etbUTQSe6AX6",
        "outputId": "63dc0d77-8800-4378-976e-e90e8a087db2"
      },
      "execution_count": null,
      "outputs": [
        {
          "output_type": "execute_result",
          "data": {
            "text/plain": [
              "'Not found'"
            ],
            "application/vnd.google.colaboratory.intrinsic+json": {
              "type": "string"
            }
          },
          "metadata": {},
          "execution_count": 55
        }
      ]
    },
    {
      "cell_type": "code",
      "source": [
        "# loop through dictionary\n",
        "player_01.keys()\n",
        "\n",
        "# all keys will be extracted to shows"
      ],
      "metadata": {
        "colab": {
          "base_uri": "https://localhost:8080/"
        },
        "id": "HIp1_OnK6h-0",
        "outputId": "95ccb558-096b-43f4-fcc3-cf383069a0e6"
      },
      "execution_count": null,
      "outputs": [
        {
          "output_type": "execute_result",
          "data": {
            "text/plain": [
              "dict_keys(['fname', 'lname', 'clubs'])"
            ]
          },
          "metadata": {},
          "execution_count": 57
        }
      ]
    },
    {
      "cell_type": "code",
      "source": [
        "player_01.values()"
      ],
      "metadata": {
        "colab": {
          "base_uri": "https://localhost:8080/"
        },
        "id": "Ip2iaBUC60Q8",
        "outputId": "d8d2160d-9342-401d-cc7e-28977e8d85e5"
      },
      "execution_count": null,
      "outputs": [
        {
          "output_type": "execute_result",
          "data": {
            "text/plain": [
              "dict_values(['David', 'Beckham', ['Man United', 'Real Madrid']])"
            ]
          },
          "metadata": {},
          "execution_count": 58
        }
      ]
    },
    {
      "cell_type": "code",
      "source": [
        "# item : \n",
        "#extracting key- value together\n",
        "player_01.items()"
      ],
      "metadata": {
        "colab": {
          "base_uri": "https://localhost:8080/"
        },
        "id": "BFdWqDZu67Xr",
        "outputId": "d07dd60c-a045-4e26-f9c6-41129912f40d"
      },
      "execution_count": null,
      "outputs": [
        {
          "output_type": "execute_result",
          "data": {
            "text/plain": [
              "dict_items([('fname', 'David'), ('lname', 'Beckham'), ('clubs', ['Man United', 'Real Madrid'])])"
            ]
          },
          "metadata": {},
          "execution_count": 59
        }
      ]
    },
    {
      "cell_type": "code",
      "source": [
        "# How to loop  through  dictionary (loop over keys)\n",
        "for key in player_01 :\n",
        "    print(key)"
      ],
      "metadata": {
        "colab": {
          "base_uri": "https://localhost:8080/"
        },
        "id": "7nwGlh476_p-",
        "outputId": "547eb82d-1b81-41a6-c744-a0c28fd5204e"
      },
      "execution_count": null,
      "outputs": [
        {
          "output_type": "stream",
          "name": "stdout",
          "text": [
            "fname\n",
            "lname\n",
            "clubs\n"
          ]
        }
      ]
    },
    {
      "cell_type": "code",
      "source": [
        "# How to loop  through dictionary (loop over keys)\n",
        "for key in player_01.keys() :\n",
        "    print(key)\n",
        "\n",
        "# same result"
      ],
      "metadata": {
        "colab": {
          "base_uri": "https://localhost:8080/"
        },
        "id": "IqVI2sss7Vcx",
        "outputId": "c1ecaf85-4c1f-42e9-f67a-15e221103a87"
      },
      "execution_count": null,
      "outputs": [
        {
          "output_type": "stream",
          "name": "stdout",
          "text": [
            "fname\n",
            "lname\n",
            "clubs\n"
          ]
        }
      ]
    },
    {
      "cell_type": "code",
      "source": [
        "# How to loop through dictionary (loop over values)\n",
        "for value in player_01.values() :\n",
        "    print(value)\n"
      ],
      "metadata": {
        "colab": {
          "base_uri": "https://localhost:8080/"
        },
        "id": "sKiPf1qa7elL",
        "outputId": "0ac324bb-5dc5-4396-a674-05a8c6ceb445"
      },
      "execution_count": null,
      "outputs": [
        {
          "output_type": "stream",
          "name": "stdout",
          "text": [
            "David\n",
            "Beckham\n",
            "['Man United', 'Real Madrid']\n"
          ]
        }
      ]
    },
    {
      "cell_type": "code",
      "source": [
        "# items()\n",
        "# How to loop through dictionary (loop over key - values)\n",
        "for key , value in player_01.items() :\n",
        "    print(key , value)\n",
        "\n",
        "\n"
      ],
      "metadata": {
        "colab": {
          "base_uri": "https://localhost:8080/"
        },
        "id": "bLLj7zAp7ryI",
        "outputId": "3db1e88d-30bb-4fdc-f67b-d566490cffc8"
      },
      "execution_count": null,
      "outputs": [
        {
          "output_type": "stream",
          "name": "stdout",
          "text": [
            "fname David\n",
            "lname Beckham\n",
            "clubs ['Man United', 'Real Madrid']\n"
          ]
        }
      ]
    },
    {
      "cell_type": "code",
      "source": [
        "# items() + f-string --> better looking\n",
        "# How to loop through dictionary (loop over key - values)\n",
        "\n",
        "for key , value in player_01.items() :\n",
        "    print(f\"{key} : {value}\")\n"
      ],
      "metadata": {
        "colab": {
          "base_uri": "https://localhost:8080/"
        },
        "id": "ywlWdRVn8PoY",
        "outputId": "3db4e8f7-723c-4abe-f588-b3f5e55b4355"
      },
      "execution_count": null,
      "outputs": [
        {
          "output_type": "stream",
          "name": "stdout",
          "text": [
            "fname : David\n",
            "lname : Beckham\n",
            "clubs : ['Man United', 'Real Madrid']\n"
          ]
        }
      ]
    },
    {
      "cell_type": "code",
      "source": [
        "# list of value\n",
        "# from below list\n",
        "balls = [\"red\",\"green\" ,\"blue\" , \"blue\" ,\"green\"]\n",
        "\n",
        "# we need to create a dictionary that contains\n",
        "#  ball colors as key / number of balls in that color as value as below\n",
        "\n",
        "# result = {\"red\" : 1 ,\"green\" : 2 ,\"blue\" : 3}\n",
        "\n",
        "# How can we do ?\n"
      ],
      "metadata": {
        "id": "WUgXvB6S8ulA"
      },
      "execution_count": null,
      "outputs": []
    },
    {
      "cell_type": "code",
      "source": [
        "# answer\n",
        "# 1. start with creating an empty dictionary named \"result\"\n",
        "results = {} # empty dictinary"
      ],
      "metadata": {
        "id": "nSOLrOEA-j1L"
      },
      "execution_count": null,
      "outputs": []
    },
    {
      "cell_type": "code",
      "source": [
        "# 2. for loop over each ball in list balls\n",
        "for ball in balls:\n",
        "    if ball in results:\n",
        "        results[ball] += 1\n",
        "    else :\n",
        "        results[ball] = 1\n",
        "\n",
        "# Logic : if in result has no that ball --> add 1 (from 0 to 1)\n",
        "          # if ball has already existed --> plus 1 (e.g from 1 to 2 , 2 to 3 and so on)\n",
        "\n",
        "print(results)"
      ],
      "metadata": {
        "colab": {
          "base_uri": "https://localhost:8080/"
        },
        "id": "dsgxTo8H-568",
        "outputId": "4b6e91ad-6256-4a2e-9aef-5acace02f451"
      },
      "execution_count": null,
      "outputs": [
        {
          "output_type": "stream",
          "name": "stdout",
          "text": [
            "{'red': 2, 'green': 4, 'blue': 4}\n"
          ]
        }
      ]
    },
    {
      "cell_type": "code",
      "source": [
        "# or even trying to combine 1 and 2 above in function\n",
        "#scope\n",
        "def count_ball(balls):\n",
        "    results = {}\n",
        "    for ball in balls:\n",
        "        if ball in results:\n",
        "            results[ball] += 1\n",
        "        else :\n",
        "            results[ball] = 1\n",
        "        \n",
        "    return results\n",
        "\n",
        "# function is Re-usable\n",
        "results = count_ball(balls)\n",
        "print(results)\n"
      ],
      "metadata": {
        "colab": {
          "base_uri": "https://localhost:8080/"
        },
        "id": "UC_u36eq-558",
        "outputId": "a064de2b-ee02-4e33-8787-7e20d3f65eba"
      },
      "execution_count": null,
      "outputs": [
        {
          "output_type": "stream",
          "name": "stdout",
          "text": [
            "{'red': 1, 'green': 2, 'blue': 2}\n"
          ]
        }
      ]
    },
    {
      "cell_type": "markdown",
      "source": [
        "## try-catch"
      ],
      "metadata": {
        "id": "H9EuVv43BnWc"
      }
    },
    {
      "cell_type": "code",
      "source": [
        "# try catch syntex\n",
        "# manage error massage in Python\n",
        "x = 10\n",
        "x / 0  # ZeroDivisionError: division by zero"
      ],
      "metadata": {
        "colab": {
          "base_uri": "https://localhost:8080/",
          "height": 200
        },
        "id": "yOhuOMEGBYi6",
        "outputId": "376950ea-60ea-4813-96a0-553f60f316d1"
      },
      "execution_count": null,
      "outputs": [
        {
          "output_type": "error",
          "ename": "ZeroDivisionError",
          "evalue": "ignored",
          "traceback": [
            "\u001b[0;31m---------------------------------------------------------------------------\u001b[0m",
            "\u001b[0;31mZeroDivisionError\u001b[0m                         Traceback (most recent call last)",
            "\u001b[0;32m<ipython-input-78-1069e0923a42>\u001b[0m in \u001b[0;36m<module>\u001b[0;34m()\u001b[0m\n\u001b[1;32m      2\u001b[0m \u001b[0;31m# manage error massage in Python\u001b[0m\u001b[0;34m\u001b[0m\u001b[0;34m\u001b[0m\u001b[0;34m\u001b[0m\u001b[0m\n\u001b[1;32m      3\u001b[0m \u001b[0mx\u001b[0m \u001b[0;34m=\u001b[0m \u001b[0;36m10\u001b[0m\u001b[0;34m\u001b[0m\u001b[0;34m\u001b[0m\u001b[0m\n\u001b[0;32m----> 4\u001b[0;31m \u001b[0mx\u001b[0m \u001b[0;34m/\u001b[0m \u001b[0;36m0\u001b[0m\u001b[0;34m\u001b[0m\u001b[0;34m\u001b[0m\u001b[0m\n\u001b[0m",
            "\u001b[0;31mZeroDivisionError\u001b[0m: division by zero"
          ]
        }
      ]
    },
    {
      "cell_type": "code",
      "source": [
        "# try catch syntex\n",
        "# manage error massage in Python\n",
        "x = 10\n",
        "# x / 0  # ZeroDivisionError: division by zero\n",
        "try : \n",
        "    result = x/0\n",
        "    print(result)\n",
        "\n",
        "except : \n",
        "    print(\"Cannot divided by zero\")\n",
        "finally :\n",
        "    print(\"The End!\")"
      ],
      "metadata": {
        "colab": {
          "base_uri": "https://localhost:8080/"
        },
        "id": "gPVYkPP6UiMM",
        "outputId": "d985fb6d-9f02-4cb4-8408-5abcf0adf6f9"
      },
      "execution_count": null,
      "outputs": [
        {
          "output_type": "stream",
          "name": "stdout",
          "text": [
            "Cannot divided by zero\n",
            "The End!\n"
          ]
        }
      ]
    },
    {
      "cell_type": "code",
      "source": [
        "# try catch syntex\n",
        "# manage error massage in Python\n",
        "x = 10\n",
        "# x / 0  # ZeroDivisionError: division by zero\n",
        "try : \n",
        "    result = X + 1\n",
        "    print(result)\n",
        "\n",
        "except : \n",
        "    print(\"Cannot divided by zero\")\n",
        "finally :\n",
        "    print(\"The End!\")"
      ],
      "metadata": {
        "colab": {
          "base_uri": "https://localhost:8080/"
        },
        "id": "nMDAQkGRVflh",
        "outputId": "aa37e9fc-be49-4bc3-e1f9-2934cd8d453a"
      },
      "execution_count": null,
      "outputs": [
        {
          "output_type": "stream",
          "name": "stdout",
          "text": [
            "Cannot divided by zero\n",
            "The End!\n"
          ]
        }
      ]
    },
    {
      "cell_type": "code",
      "source": [
        "X"
      ],
      "metadata": {
        "colab": {
          "base_uri": "https://localhost:8080/",
          "height": 165
        },
        "id": "hcxpZbASVnA-",
        "outputId": "b2658cd9-36aa-476d-bb9f-4b63ad9a2a43"
      },
      "execution_count": null,
      "outputs": [
        {
          "output_type": "error",
          "ename": "NameError",
          "evalue": "ignored",
          "traceback": [
            "\u001b[0;31m---------------------------------------------------------------------------\u001b[0m",
            "\u001b[0;31mNameError\u001b[0m                                 Traceback (most recent call last)",
            "\u001b[0;32m<ipython-input-85-b5fec669aca1>\u001b[0m in \u001b[0;36m<module>\u001b[0;34m()\u001b[0m\n\u001b[0;32m----> 1\u001b[0;31m \u001b[0mX\u001b[0m\u001b[0;34m\u001b[0m\u001b[0;34m\u001b[0m\u001b[0m\n\u001b[0m",
            "\u001b[0;31mNameError\u001b[0m: name 'X' is not defined"
          ]
        }
      ]
    },
    {
      "cell_type": "code",
      "source": [
        "X/0"
      ],
      "metadata": {
        "colab": {
          "base_uri": "https://localhost:8080/",
          "height": 165
        },
        "id": "wtOl2dpcVtKw",
        "outputId": "f930a1c0-42bd-41b4-e0d7-017490479d78"
      },
      "execution_count": null,
      "outputs": [
        {
          "output_type": "error",
          "ename": "NameError",
          "evalue": "ignored",
          "traceback": [
            "\u001b[0;31m---------------------------------------------------------------------------\u001b[0m",
            "\u001b[0;31mNameError\u001b[0m                                 Traceback (most recent call last)",
            "\u001b[0;32m<ipython-input-86-be822b5331a2>\u001b[0m in \u001b[0;36m<module>\u001b[0;34m()\u001b[0m\n\u001b[0;32m----> 1\u001b[0;31m \u001b[0mX\u001b[0m\u001b[0;34m/\u001b[0m\u001b[0;36m0\u001b[0m\u001b[0;34m\u001b[0m\u001b[0;34m\u001b[0m\u001b[0m\n\u001b[0m",
            "\u001b[0;31mNameError\u001b[0m: name 'X' is not defined"
          ]
        }
      ]
    },
    {
      "cell_type": "code",
      "source": [
        "# we can use many expet to cover more error as below\n",
        "# try catch syntex\n",
        "# manage error massage in Python\n",
        "x = 10\n",
        "# x / 0  # ZeroDivisionError: division by zero\n",
        "#-----------------\n",
        "# in this case / we will catch NameError & ZeroDivisionError as well\n",
        "# X won't be defined\n",
        "try : \n",
        "    result = X + 1      \n",
        "    print(result)\n",
        "except NameError :\n",
        "    print(\"X is not defined\")\n",
        "except ZeroDivisionError :\n",
        "    (\"Cannot divided by zero\")\n",
        "finally :\n",
        "    print(\"The End!\")\n",
        "\n"
      ],
      "metadata": {
        "colab": {
          "base_uri": "https://localhost:8080/"
        },
        "id": "iS4nRTBYVw9C",
        "outputId": "aba539de-b3aa-46c3-d57c-d4708517afe7"
      },
      "execution_count": null,
      "outputs": [
        {
          "output_type": "stream",
          "name": "stdout",
          "text": [
            "X is not defined\n",
            "The End!\n"
          ]
        }
      ]
    },
    {
      "cell_type": "markdown",
      "source": [
        "## Lambda function & List Comprehension"
      ],
      "metadata": {
        "id": "1lb3s3RlW-Fw"
      }
    },
    {
      "cell_type": "code",
      "source": [
        "# Lambda Function\n",
        "\n",
        "# we can change normal function to be simpler using lambda Function\n",
        "# as known as  Refractoring\n",
        "\n",
        "# from  general function\n",
        "def greeting() :\n",
        "    print(\"Hello\")"
      ],
      "metadata": {
        "id": "SUgrDJOXXDgV"
      },
      "execution_count": null,
      "outputs": []
    },
    {
      "cell_type": "code",
      "source": [
        "greeting()"
      ],
      "metadata": {
        "colab": {
          "base_uri": "https://localhost:8080/"
        },
        "id": "PAxS2IKNXUZU",
        "outputId": "1fe703e1-c4bf-492d-c1fe-683faa58286c"
      },
      "execution_count": null,
      "outputs": [
        {
          "output_type": "stream",
          "name": "stdout",
          "text": [
            "Hello\n"
          ]
        }
      ]
    },
    {
      "cell_type": "code",
      "source": [
        "# rearrange it to be in lambda function form\n",
        "greeting_lambda = lambda : print(\"Hello !\")"
      ],
      "metadata": {
        "id": "__UV4zynXX3m"
      },
      "execution_count": null,
      "outputs": []
    },
    {
      "cell_type": "code",
      "source": [
        "# try to call our new lambda function\n",
        "greeting_lambda()"
      ],
      "metadata": {
        "colab": {
          "base_uri": "https://localhost:8080/"
        },
        "id": "8z1PI74DX3kZ",
        "outputId": "b7a497ba-3015-49f0-a10f-28f6390bd3a0"
      },
      "execution_count": null,
      "outputs": [
        {
          "output_type": "stream",
          "name": "stdout",
          "text": [
            "Hello !\n"
          ]
        }
      ]
    },
    {
      "cell_type": "code",
      "source": [
        "# for function with accepting 1 input\n",
        "\n",
        "# from general function form\n",
        "def greeting_name(name) :\n",
        "    print(f\"Hello! {name}\")\n"
      ],
      "metadata": {
        "id": "Mo9IKPIVYOB8"
      },
      "execution_count": null,
      "outputs": []
    },
    {
      "cell_type": "code",
      "source": [
        "greeting_name(\"Pongpang\")"
      ],
      "metadata": {
        "colab": {
          "base_uri": "https://localhost:8080/"
        },
        "id": "UHcnnJq6YxZy",
        "outputId": "5fd89e07-f13e-4ebf-89a5-017ee5da9b9e"
      },
      "execution_count": null,
      "outputs": [
        {
          "output_type": "stream",
          "name": "stdout",
          "text": [
            "Hello! Pongpang\n"
          ]
        }
      ]
    },
    {
      "cell_type": "code",
      "source": [
        "# rearrange it to be in lambda function form\n",
        "\n",
        "greeting_name_lambda = lambda name : print(f\"Hello! {name}\")"
      ],
      "metadata": {
        "id": "MRf-Oe8ZY1oW"
      },
      "execution_count": null,
      "outputs": []
    },
    {
      "cell_type": "code",
      "source": [
        "greeting_name_lambda(\"Pongpang\")\n",
        "\n",
        "# it will show same result"
      ],
      "metadata": {
        "colab": {
          "base_uri": "https://localhost:8080/"
        },
        "id": "--gTfv6UZBaS",
        "outputId": "246cabac-cc72-4def-f181-ce16a1d3de2f"
      },
      "execution_count": null,
      "outputs": [
        {
          "output_type": "stream",
          "name": "stdout",
          "text": [
            "Hello! Pongpang\n"
          ]
        }
      ]
    },
    {
      "cell_type": "code",
      "source": [
        "# more about lambda\n",
        "\n",
        "# common pattern when we use lambda function\n",
        "values = [1, 3 , 5 , 10 , 12]\n",
        "\n",
        "# expected output (x2)\n",
        "# value_new = [2 , 6 , 10 , 14 , 20 , 24]"
      ],
      "metadata": {
        "id": "hVFKmEMdZUaE"
      },
      "execution_count": null,
      "outputs": []
    },
    {
      "cell_type": "code",
      "source": [
        "# 1. list comprehension\n",
        "new_values = [ value * 2 for value in values ]\n",
        "print(new_values)"
      ],
      "metadata": {
        "colab": {
          "base_uri": "https://localhost:8080/"
        },
        "id": "2cdbm7Y5bfB1",
        "outputId": "8e940051-3f05-43eb-bcd3-5f85d0374772"
      },
      "execution_count": null,
      "outputs": [
        {
          "output_type": "stream",
          "name": "stdout",
          "text": [
            "[2, 6, 10, 20, 24]\n"
          ]
        }
      ]
    },
    {
      "cell_type": "code",
      "source": [
        "# 2. lambda function + map()\n",
        "values"
      ],
      "metadata": {
        "colab": {
          "base_uri": "https://localhost:8080/"
        },
        "id": "LiuM2lcLb_nx",
        "outputId": "b6758b5f-40e1-4dd5-e9e4-2413a08b5b3e"
      },
      "execution_count": null,
      "outputs": [
        {
          "output_type": "execute_result",
          "data": {
            "text/plain": [
              "[1, 3, 5, 10, 12]"
            ]
          },
          "metadata": {},
          "execution_count": 107
        }
      ]
    },
    {
      "cell_type": "code",
      "source": [
        "# 2.1 start with def new function\n",
        "def double(number) :\n",
        "    return number * 2\n",
        "\n",
        "# try for new function \n",
        "double(10)  \n",
        "# double(10) will return 20\n",
        "\n",
        "# 2.2 map function double with list values --> and change it to be a new list\n",
        "list(map(double , values))"
      ],
      "metadata": {
        "colab": {
          "base_uri": "https://localhost:8080/"
        },
        "id": "zfzq4-4lcGlU",
        "outputId": "25d6d84b-50a9-4f30-ce37-17597c8cb9de"
      },
      "execution_count": null,
      "outputs": [
        {
          "output_type": "execute_result",
          "data": {
            "text/plain": [
              "[2, 6, 10, 20, 24]"
            ]
          },
          "metadata": {},
          "execution_count": 111
        }
      ]
    },
    {
      "cell_type": "code",
      "source": [
        "# we can use lambda to define function double in a function map as well\n",
        "# anonymous function \n",
        "\n",
        "# 3. lambda function + map () within 1 line coding\n",
        "list(map(lambda number : number * 2 , values))\n"
      ],
      "metadata": {
        "colab": {
          "base_uri": "https://localhost:8080/"
        },
        "id": "BI4UG-ALcl3w",
        "outputId": "224b7923-7510-47d0-b91b-2863501d814e"
      },
      "execution_count": null,
      "outputs": [
        {
          "output_type": "execute_result",
          "data": {
            "text/plain": [
              "[2, 6, 10, 20, 24]"
            ]
          },
          "metadata": {},
          "execution_count": 112
        }
      ]
    },
    {
      "cell_type": "code",
      "source": [
        "# lambda function\n",
        "\n",
        "divided_by_two = lambda number : number/2\n",
        "divided_by_two(155)"
      ],
      "metadata": {
        "colab": {
          "base_uri": "https://localhost:8080/"
        },
        "id": "trUUOO5Bd7tB",
        "outputId": "502a1573-5d9f-4821-f61d-7636351b1c02"
      },
      "execution_count": null,
      "outputs": [
        {
          "output_type": "execute_result",
          "data": {
            "text/plain": [
              "77.5"
            ]
          },
          "metadata": {},
          "execution_count": 114
        }
      ]
    },
    {
      "cell_type": "markdown",
      "source": [
        "## OOP & Class\n",
        "\n",
        "OOP - Object Oriented Programming"
      ],
      "metadata": {
        "id": "p0gh6BQQe16M"
      }
    },
    {
      "cell_type": "code",
      "source": [
        "# How to create a new class\n",
        "\n",
        "# creating a new class : FirstChar.capitalize()\n",
        "# __ (double underscore) AKA : dunder\n",
        "\n",
        "# self : we can use any word as  name (not limited to \"self\"  )\n",
        "\n",
        "class Dog :\n",
        "    # assign attributes\n",
        "    def __init__(self , name , age , breed) :\n",
        "        self.name = name\n",
        "        self.age = age \n",
        "        self.breed = breed\n",
        "\n",
        "    # methods \n",
        "    # sitting\n",
        "    def sitting(self):\n",
        "        print(\"I am sitting now !!!\")\n",
        "\n",
        "    # introduce yourself\n",
        "    def hello(self) :\n",
        "        print(f\"Hello! My name is {self.name} My breed is {self.breed}\")\n",
        "\n",
        "\n",
        "# after def a new function , we must need to refresh you created instance (Kuma & Lavender)\n"
      ],
      "metadata": {
        "id": "GszMUofHe8G4"
      },
      "execution_count": null,
      "outputs": []
    },
    {
      "cell_type": "code",
      "source": [
        "# create a new instance : Dog Class\n",
        "my_dog = Dog(name = \"Kuma\" , age = 2 , breed = \"Pomperranian\")\n",
        "print(my_dog)\n",
        "\n"
      ],
      "metadata": {
        "colab": {
          "base_uri": "https://localhost:8080/"
        },
        "id": "FJQN0MSEgTx2",
        "outputId": "65c9ae9e-0561-4d11-b951-3f377f290605"
      },
      "execution_count": null,
      "outputs": [
        {
          "output_type": "stream",
          "name": "stdout",
          "text": [
            "<__main__.Dog object at 0x7f17f4051610>\n"
          ]
        }
      ]
    },
    {
      "cell_type": "code",
      "source": [
        "# to find what is Kuma 's name\n",
        "my_dog.name\n",
        "\n",
        "# dot notation\n",
        "\n",
        "my_dog.age\n",
        "my_dog.breed"
      ],
      "metadata": {
        "colab": {
          "base_uri": "https://localhost:8080/",
          "height": 35
        },
        "id": "dn3KxRuAin5r",
        "outputId": "b1c807f2-fc66-4d36-f9df-085353428063"
      },
      "execution_count": null,
      "outputs": [
        {
          "output_type": "execute_result",
          "data": {
            "text/plain": [
              "'Pomperranian'"
            ],
            "application/vnd.google.colaboratory.intrinsic+json": {
              "type": "string"
            }
          },
          "metadata": {},
          "execution_count": 145
        }
      ]
    },
    {
      "cell_type": "code",
      "source": [
        "my_dog.sitting()\n",
        "\n"
      ],
      "metadata": {
        "colab": {
          "base_uri": "https://localhost:8080/"
        },
        "id": "afZiiQppjb0A",
        "outputId": "b01ab631-56f2-4aec-b310-585adee5094c"
      },
      "execution_count": null,
      "outputs": [
        {
          "output_type": "stream",
          "name": "stdout",
          "text": [
            "I am sitting now !!!\n"
          ]
        }
      ]
    },
    {
      "cell_type": "code",
      "source": [
        "# function created in class cannot be called outside instance\n",
        "# for example\n",
        "sitting()"
      ],
      "metadata": {
        "colab": {
          "base_uri": "https://localhost:8080/",
          "height": 200
        },
        "id": "vVkusB3KkrgT",
        "outputId": "8dbcd447-5827-41c4-8669-93213b8af5b4"
      },
      "execution_count": null,
      "outputs": [
        {
          "output_type": "error",
          "ename": "NameError",
          "evalue": "ignored",
          "traceback": [
            "\u001b[0;31m---------------------------------------------------------------------------\u001b[0m",
            "\u001b[0;31mNameError\u001b[0m                                 Traceback (most recent call last)",
            "\u001b[0;32m<ipython-input-140-a8968a59d17a>\u001b[0m in \u001b[0;36m<module>\u001b[0;34m()\u001b[0m\n\u001b[1;32m      1\u001b[0m \u001b[0;31m# function created in class cannot be called outside instance\u001b[0m\u001b[0;34m\u001b[0m\u001b[0;34m\u001b[0m\u001b[0;34m\u001b[0m\u001b[0m\n\u001b[1;32m      2\u001b[0m \u001b[0;31m# for example\u001b[0m\u001b[0;34m\u001b[0m\u001b[0;34m\u001b[0m\u001b[0;34m\u001b[0m\u001b[0m\n\u001b[0;32m----> 3\u001b[0;31m \u001b[0msitting\u001b[0m\u001b[0;34m(\u001b[0m\u001b[0;34m)\u001b[0m\u001b[0;34m\u001b[0m\u001b[0;34m\u001b[0m\u001b[0m\n\u001b[0m",
            "\u001b[0;31mNameError\u001b[0m: name 'sitting' is not defined"
          ]
        }
      ]
    },
    {
      "cell_type": "code",
      "source": [
        "my_dog.hello()"
      ],
      "metadata": {
        "colab": {
          "base_uri": "https://localhost:8080/"
        },
        "id": "YUGrhyhUllgK",
        "outputId": "43da7a3e-0cfe-4f0c-e904-47e80d99c037"
      },
      "execution_count": null,
      "outputs": [
        {
          "output_type": "stream",
          "name": "stdout",
          "text": [
            "Hello! My name is Kuma My breed is Pomperranian\n"
          ]
        }
      ]
    },
    {
      "cell_type": "markdown",
      "source": [
        "# ATM Mini Project"
      ],
      "metadata": {
        "id": "deQiLoPhl5Qj"
      }
    },
    {
      "cell_type": "markdown",
      "source": [
        "- ATM ควรเก็บค่าอะไรบ้าง ?\n",
        "- ATM ควรมี function อะไรบ้าง ?"
      ],
      "metadata": {
        "id": "efpVhFhb_2YR"
      }
    },
    {
      "cell_type": "markdown",
      "source": [
        ""
      ],
      "metadata": {
        "id": "xcbFLhSnAJxj"
      }
    },
    {
      "cell_type": "code",
      "source": [
        " # 1. deposit\n",
        "# 2. withdraw\n",
        "# 3. check balance\n",
        "\n",
        "class ATM :\n",
        "  \n",
        "    def __init__ (self , account_name , bank_name ) :\n",
        "        self.account_name = account_name\n",
        "        self.bank_name = bank_name\n",
        "    "
      ],
      "metadata": {
        "id": "zGeaGDsNl7hi"
      },
      "execution_count": null,
      "outputs": []
    },
    {
      "cell_type": "code",
      "source": [
        "# this code must input account_name & bank_name to prevent error while running\n",
        "my_atm = ATM(\"Puriwat S.\",\"SCB\")"
      ],
      "metadata": {
        "id": "EwW_eOGRAzy7"
      },
      "execution_count": null,
      "outputs": []
    },
    {
      "cell_type": "code",
      "source": [
        "# to call the value inside my_atm\n",
        "# to view :my_atm 's account name\n",
        "my_atm.account_name"
      ],
      "metadata": {
        "colab": {
          "base_uri": "https://localhost:8080/",
          "height": 35
        },
        "id": "-lM462Q7BLpe",
        "outputId": "3bb58469-1927-46d6-8d01-5cb12acd5750"
      },
      "execution_count": null,
      "outputs": [
        {
          "output_type": "execute_result",
          "data": {
            "text/plain": [
              "'Puriwat S.'"
            ],
            "application/vnd.google.colaboratory.intrinsic+json": {
              "type": "string"
            }
          },
          "metadata": {},
          "execution_count": 4
        }
      ]
    },
    {
      "cell_type": "code",
      "source": [
        "# to view :my_atm 's bank name\n",
        "my_atm.bank_name"
      ],
      "metadata": {
        "colab": {
          "base_uri": "https://localhost:8080/",
          "height": 35
        },
        "id": "d4vh1L4fBSwL",
        "outputId": "22fe6324-38a8-4cc8-bc08-d14731c46b3e"
      },
      "execution_count": null,
      "outputs": [
        {
          "output_type": "execute_result",
          "data": {
            "text/plain": [
              "'SCB'"
            ],
            "application/vnd.google.colaboratory.intrinsic+json": {
              "type": "string"
            }
          },
          "metadata": {},
          "execution_count": 5
        }
      ]
    },
    {
      "cell_type": "code",
      "source": [
        "class ATM :\n",
        "  \n",
        "    def __init__ (self , account_name , bank_name ) :\n",
        "        self.account_name = account_name\n",
        "        self.bank_name = bank_name\n",
        "        self.balance = 0 # initial value\n",
        "\n",
        "# balance จะอยู่ตรงไหนก็ได้ (ไม่จำเป็นต้องอยู่ใน init)\n",
        "# __init__ : จะใช้ในกรณีที่เราอยากจะรับค่าเข้ามา ตอนเราประกาศ instance ตัวใหม่"
      ],
      "metadata": {
        "id": "8KRd5V0IBpmj"
      },
      "execution_count": null,
      "outputs": []
    },
    {
      "cell_type": "code",
      "source": [
        "# this code must input account_name & bank_name to prevent error while running\n",
        "my_atm = ATM(\"Puriwat S.\",\"SCB\")"
      ],
      "metadata": {
        "id": "hzLRir4kBzEJ"
      },
      "execution_count": null,
      "outputs": []
    },
    {
      "cell_type": "code",
      "source": [
        "# start with bank account balance = 0\n",
        "my_atm.balance"
      ],
      "metadata": {
        "colab": {
          "base_uri": "https://localhost:8080/"
        },
        "id": "U35igrkrB1VU",
        "outputId": "2f2c8c39-4a5e-49cf-a4fb-32438f5e8bc1"
      },
      "execution_count": null,
      "outputs": [
        {
          "output_type": "execute_result",
          "data": {
            "text/plain": [
              "0"
            ]
          },
          "metadata": {},
          "execution_count": 8
        }
      ]
    },
    {
      "cell_type": "code",
      "source": [
        "my_atm.account_name"
      ],
      "metadata": {
        "colab": {
          "base_uri": "https://localhost:8080/",
          "height": 35
        },
        "id": "RlOvIGmVCD7N",
        "outputId": "5921f71c-a701-4b4c-db53-6a8560258d55"
      },
      "execution_count": null,
      "outputs": [
        {
          "output_type": "execute_result",
          "data": {
            "text/plain": [
              "'Puriwat S.'"
            ],
            "application/vnd.google.colaboratory.intrinsic+json": {
              "type": "string"
            }
          },
          "metadata": {},
          "execution_count": 94
        }
      ]
    },
    {
      "cell_type": "markdown",
      "source": [
        "1. deposit"
      ],
      "metadata": {
        "id": "ORXF5EtEEfGy"
      }
    },
    {
      "cell_type": "code",
      "source": [
        "# start with 1. Deposit\n",
        "\n",
        "class ATM :\n",
        "  \n",
        "    def __init__ (self , account_name , bank_name ) :\n",
        "        self.account_name = account_name\n",
        "        self.bank_name = bank_name\n",
        "        self.balance = 0 # initial value\n",
        "\n",
        "    # 1. Deposit\n",
        "    def deposit(self , amount) :\n",
        "        self.balance += amount\n",
        "        print(f\"Your Balance us {self.balance}\")\n",
        "\n",
        "\n",
        "    # 3. check balance"
      ],
      "metadata": {
        "id": "x8neT2TTCGNT"
      },
      "execution_count": null,
      "outputs": []
    },
    {
      "cell_type": "code",
      "source": [
        "my_atm = ATM(\"Puriwat S.\",\"SCB\")"
      ],
      "metadata": {
        "id": "N7r8P1u6DRei"
      },
      "execution_count": null,
      "outputs": []
    },
    {
      "cell_type": "code",
      "source": [
        "#  try to deposit in the first time for 500 THB\n",
        "my_atm.deposit(-500)\n",
        "print(my_atm.balance)\n",
        "\n",
        "# every running (shift + enter) : balance will be increased by (input number) in my_atm.deposit function\n",
        "#  Now wecannot withdraw /deposit only\n"
      ],
      "metadata": {
        "colab": {
          "base_uri": "https://localhost:8080/"
        },
        "id": "LYxIrUpWD1MO",
        "outputId": "60a10062-ec20-46f5-c459-22427adb5890"
      },
      "execution_count": null,
      "outputs": [
        {
          "output_type": "stream",
          "name": "stdout",
          "text": [
            "Your Balance us 0\n",
            "0\n"
          ]
        }
      ]
    },
    {
      "cell_type": "markdown",
      "source": [
        "2. withdraw"
      ],
      "metadata": {
        "id": "Yfr0uu4YEhaf"
      }
    },
    {
      "cell_type": "code",
      "source": [
        "# 2. withdraw\n",
        "class ATM :\n",
        "  \n",
        "    def __init__ (self , account_name , bank_name ) :\n",
        "        self.account_name = account_name\n",
        "        self.bank_name = bank_name\n",
        "        self.balance = 0 # initial value\n",
        "\n",
        "    # 1. Deposit\n",
        "    def deposit(self , amount) :\n",
        "        self.balance += amount\n",
        "        print(f\"Your Balance is {self.balance}\")\n",
        "\n",
        "    # 2. withdraw\n",
        "    \n",
        "    def withdraw(self , amount) :\n",
        "        if amount > self.balance :\n",
        "            print(\"Not Enough money\")\n",
        "        else :\n",
        "            self.balance -= amount\n",
        "            print(\"Successful\")\n",
        "            print(f\"Your Balance is {self.balance}\")\n",
        "\n",
        "\n",
        "    # 3. check balance"
      ],
      "metadata": {
        "id": "32HfiQw1Ejmb"
      },
      "execution_count": null,
      "outputs": []
    },
    {
      "cell_type": "code",
      "source": [
        "my_atm = ATM(\"Puriwat S.\",\"SCB\")\n",
        "my_atm.balance"
      ],
      "metadata": {
        "colab": {
          "base_uri": "https://localhost:8080/"
        },
        "id": "LJDTqn8NLYtH",
        "outputId": "0ea67a18-b394-4c03-9865-32ede28ac614"
      },
      "execution_count": null,
      "outputs": [
        {
          "output_type": "execute_result",
          "data": {
            "text/plain": [
              "0"
            ]
          },
          "metadata": {},
          "execution_count": 135
        }
      ]
    },
    {
      "cell_type": "code",
      "source": [
        "my_atm.deposit(500)\n",
        "my_atm.balance"
      ],
      "metadata": {
        "colab": {
          "base_uri": "https://localhost:8080/"
        },
        "id": "we4ZhuVTMHPK",
        "outputId": "17b70c73-2ba8-41b0-c9f8-7a2dd25f7dcd"
      },
      "execution_count": null,
      "outputs": [
        {
          "output_type": "stream",
          "name": "stdout",
          "text": [
            "Your Balance is 500\n"
          ]
        },
        {
          "output_type": "execute_result",
          "data": {
            "text/plain": [
              "500"
            ]
          },
          "metadata": {},
          "execution_count": 136
        }
      ]
    },
    {
      "cell_type": "code",
      "source": [
        "# How abour withdrawing for 1000 THB\n",
        "my_atm.withdraw(200)"
      ],
      "metadata": {
        "colab": {
          "base_uri": "https://localhost:8080/"
        },
        "id": "QBJL9JouMpZN",
        "outputId": "84656de4-f500-4f98-c297-86abb62b16c3"
      },
      "execution_count": null,
      "outputs": [
        {
          "output_type": "stream",
          "name": "stdout",
          "text": [
            "Successful\n",
            "Your Balance is 300\n"
          ]
        }
      ]
    },
    {
      "cell_type": "markdown",
      "source": [
        "3. Check Balance"
      ],
      "metadata": {
        "id": "-AnhSz9BEhZQ"
      }
    },
    {
      "cell_type": "code",
      "source": [
        "# 3. Check balance\n",
        "class ATM :\n",
        "  \n",
        "    def __init__ (self , account_name , bank_name ) :\n",
        "        self.account_name = account_name\n",
        "        self.bank_name = bank_name\n",
        "        self.balance = 0 # initial value\n",
        "\n",
        "    # 1. Deposit\n",
        "    def deposit(self , amount) :\n",
        "        self.balance += amount\n",
        "        print(f\"Your Balance is {self.balance}\")\n",
        "\n",
        "    # 2. withdraw\n",
        "    \n",
        "    def withdraw(self , amount) :\n",
        "        if amount > self.balance :\n",
        "            print(\"Not Enough money\")\n",
        "        else :\n",
        "            self.balance -= amount\n",
        "            print(\"Successful\")\n",
        "            print(f\"Your Balance is {self.balance}\")\n",
        "\n",
        "    # 3. check balance\n",
        "    def check_balance(self) :\n",
        "        print(f\"Your balance : {self.balance}\")\n"
      ],
      "metadata": {
        "id": "WwTBafJSNk6O"
      },
      "execution_count": null,
      "outputs": []
    },
    {
      "cell_type": "code",
      "source": [
        "my_atm = ATM(\"Puriwat S.\",\"SCB\")\n",
        "my_atm.balance"
      ],
      "metadata": {
        "colab": {
          "base_uri": "https://localhost:8080/"
        },
        "id": "XsMWgXtKNu2o",
        "outputId": "aa04ff61-41dc-40f6-b3f4-d12a09658d38"
      },
      "execution_count": null,
      "outputs": [
        {
          "output_type": "execute_result",
          "data": {
            "text/plain": [
              "0"
            ]
          },
          "metadata": {},
          "execution_count": 231
        }
      ]
    },
    {
      "cell_type": "code",
      "source": [
        "my_atm.deposit(500)"
      ],
      "metadata": {
        "colab": {
          "base_uri": "https://localhost:8080/"
        },
        "id": "FlRQhefpNutD",
        "outputId": "07418d50-f2e6-48dc-d0d9-ea38308575c8"
      },
      "execution_count": null,
      "outputs": [
        {
          "output_type": "stream",
          "name": "stdout",
          "text": [
            "Your Balance is 500\n"
          ]
        }
      ]
    },
    {
      "cell_type": "code",
      "source": [
        "my_atm.deposit(6000)"
      ],
      "metadata": {
        "colab": {
          "base_uri": "https://localhost:8080/"
        },
        "id": "Umu5YilEODMb",
        "outputId": "1a8beccc-d730-470d-dc95-c7ac271495ac"
      },
      "execution_count": null,
      "outputs": [
        {
          "output_type": "stream",
          "name": "stdout",
          "text": [
            "Your Balance is 6500\n"
          ]
        }
      ]
    },
    {
      "cell_type": "code",
      "source": [
        "my_atm.withdraw(5000)"
      ],
      "metadata": {
        "colab": {
          "base_uri": "https://localhost:8080/"
        },
        "id": "n4BsObE2Qlvo",
        "outputId": "5978d934-3a05-48ed-cb75-557a2c3de9bc"
      },
      "execution_count": null,
      "outputs": [
        {
          "output_type": "stream",
          "name": "stdout",
          "text": [
            "Successful\n",
            "Your Balance is 1500\n"
          ]
        }
      ]
    },
    {
      "cell_type": "code",
      "source": [
        "# to check your balance\n",
        "my_atm.check_balance()"
      ],
      "metadata": {
        "colab": {
          "base_uri": "https://localhost:8080/"
        },
        "id": "ZgKOskD_R29N",
        "outputId": "54ca23f0-8cdb-4605-b464-b050deb7f954"
      },
      "execution_count": null,
      "outputs": [
        {
          "output_type": "stream",
          "name": "stdout",
          "text": [
            "Your balance : 1500\n"
          ]
        }
      ]
    },
    {
      "cell_type": "markdown",
      "source": [
        "Need more function ?\n",
        "\n",
        "- More example of coding : Mobile Banking"
      ],
      "metadata": {
        "id": "eteQIwHCSJmk"
      }
    },
    {
      "cell_type": "code",
      "source": [
        "# import random and randomize 5-digit nymber (OTP  number)\n",
        "#import random\n",
        "\n",
        "# random.randint(10000,99999)"
      ],
      "metadata": {
        "colab": {
          "base_uri": "https://localhost:8080/"
        },
        "id": "rN2YPpXdSpSL",
        "outputId": "fe79da1a-bc5c-4e95-a661-93059a66f44c"
      },
      "execution_count": null,
      "outputs": [
        {
          "output_type": "execute_result",
          "data": {
            "text/plain": [
              "73321"
            ]
          },
          "metadata": {},
          "execution_count": 242
        }
      ]
    },
    {
      "cell_type": "code",
      "source": [
        "# get input from user\n",
        "# input()\n",
        "value = int(input())"
      ],
      "metadata": {
        "colab": {
          "base_uri": "https://localhost:8080/"
        },
        "id": "LO_GHYBAUWq5",
        "outputId": "2d0e9f23-8bac-40af-ad14-f2a08ba83fef"
      },
      "execution_count": null,
      "outputs": [
        {
          "name": "stdout",
          "output_type": "stream",
          "text": [
            "12355\n"
          ]
        }
      ]
    },
    {
      "cell_type": "code",
      "source": [
        "value"
      ],
      "metadata": {
        "colab": {
          "base_uri": "https://localhost:8080/"
        },
        "id": "QYp9DQ-AUkxK",
        "outputId": "b4c3ca24-09b6-411d-93dc-a465c9d793c8"
      },
      "execution_count": null,
      "outputs": [
        {
          "output_type": "execute_result",
          "data": {
            "text/plain": [
              "12355"
            ]
          },
          "metadata": {},
          "execution_count": 248
        }
      ]
    },
    {
      "cell_type": "code",
      "source": [
        "# import random and randomize 5-digit nymber (OTP  number)\n",
        "import random\n",
        "\n",
        "#4. Mobile Banking\n",
        "class ATM :\n",
        "  \n",
        "    def __init__ (self , account_name , bank_name ) :\n",
        "        self.account_name = account_name\n",
        "        self.bank_name = bank_name\n",
        "        self.balance = 0 # initial value\n",
        "\n",
        "    # 1. Deposit\n",
        "    def deposit(self , amount) :\n",
        "        self.balance += amount\n",
        "        print(f\"Your Balance is {self.balance}\")\n",
        "\n",
        "    # 2. withdraw\n",
        "    \n",
        "    def withdraw(self , amount) :\n",
        "        if amount > self.balance :\n",
        "            print(\"Not Enough money\")\n",
        "        else :\n",
        "            self.balance -= amount\n",
        "            print(\"Successful\")\n",
        "            print(f\"Your Balance is {self.balance}\")\n",
        "\n",
        "    # 3. check balance\n",
        "    def check_balance(self) :\n",
        "        print(f\"Your balance : {self.balance}\")\n",
        "\n",
        "    # 4. Mobile banking\n",
        "    def mobile_withdraw(self , amount) :\n",
        "        OTP = random.randint(1000, 99999)\n",
        "        print(OTP)\n",
        "\n",
        "        # get OTP input from user\n",
        "        user_input = int(input(\"Your OTP : \") )\n",
        "        if user_input == OTP :\n",
        "            if amount > self.balance :\n",
        "                print(\"Not Enough money\")\n",
        "            else :\n",
        "                self.balance -= amount\n",
        "                print(\"Successful\")\n",
        "                print(f\"Your Balance is {self.balance}\")\n",
        "        else :\n",
        "            print(\"Your OTP is incorrect. Please try again !!\")\n"
      ],
      "metadata": {
        "id": "jl8abZx9SMLA"
      },
      "execution_count": null,
      "outputs": []
    },
    {
      "cell_type": "code",
      "source": [
        "my_atm = ATM(\"Puriwat S.\",\"SCB\")\n",
        "my_atm.balance"
      ],
      "metadata": {
        "colab": {
          "base_uri": "https://localhost:8080/"
        },
        "id": "l_S-JSuuWxej",
        "outputId": "6d6f4e9c-96f3-42e5-8646-d141430edb79"
      },
      "execution_count": null,
      "outputs": [
        {
          "output_type": "execute_result",
          "data": {
            "text/plain": [
              "0"
            ]
          },
          "metadata": {},
          "execution_count": 250
        }
      ]
    },
    {
      "cell_type": "code",
      "source": [
        "my_atm.account_name"
      ],
      "metadata": {
        "colab": {
          "base_uri": "https://localhost:8080/",
          "height": 35
        },
        "id": "B227GSyUXFmb",
        "outputId": "e1802cea-b559-47cd-95e4-b79077aa5014"
      },
      "execution_count": null,
      "outputs": [
        {
          "output_type": "execute_result",
          "data": {
            "text/plain": [
              "'Puriwat S.'"
            ],
            "application/vnd.google.colaboratory.intrinsic+json": {
              "type": "string"
            }
          },
          "metadata": {},
          "execution_count": 251
        }
      ]
    },
    {
      "cell_type": "code",
      "source": [
        "my_atm.balance"
      ],
      "metadata": {
        "colab": {
          "base_uri": "https://localhost:8080/"
        },
        "id": "scZn-KMcXMa2",
        "outputId": "08c8dac7-01b7-4f21-c391-ad6d4db8d646"
      },
      "execution_count": null,
      "outputs": [
        {
          "output_type": "execute_result",
          "data": {
            "text/plain": [
              "0"
            ]
          },
          "metadata": {},
          "execution_count": 252
        }
      ]
    },
    {
      "cell_type": "code",
      "source": [
        "my_atm.deposit(500)"
      ],
      "metadata": {
        "colab": {
          "base_uri": "https://localhost:8080/"
        },
        "id": "_qZpS-lDXMZY",
        "outputId": "3def0831-2fae-4e1d-b5e4-42f4e4cc41f5"
      },
      "execution_count": null,
      "outputs": [
        {
          "output_type": "stream",
          "name": "stdout",
          "text": [
            "Your Balance is 500\n"
          ]
        }
      ]
    },
    {
      "cell_type": "code",
      "source": [
        "my_atm.deposit(300)"
      ],
      "metadata": {
        "colab": {
          "base_uri": "https://localhost:8080/"
        },
        "id": "HsrZkizOXR4j",
        "outputId": "749d7ef2-974c-446d-fd59-1944cb734c56"
      },
      "execution_count": null,
      "outputs": [
        {
          "output_type": "stream",
          "name": "stdout",
          "text": [
            "Your Balance is 800\n"
          ]
        }
      ]
    },
    {
      "cell_type": "code",
      "source": [
        "my_atm.withdraw(1000)"
      ],
      "metadata": {
        "colab": {
          "base_uri": "https://localhost:8080/"
        },
        "id": "-HDE4op2XUs1",
        "outputId": "441225de-aca6-4c7c-aa29-ab5cb7f646bf"
      },
      "execution_count": null,
      "outputs": [
        {
          "output_type": "stream",
          "name": "stdout",
          "text": [
            "Not Enough money\n"
          ]
        }
      ]
    },
    {
      "cell_type": "code",
      "source": [
        "my_atm.mobile_withdraw(350)"
      ],
      "metadata": {
        "colab": {
          "base_uri": "https://localhost:8080/"
        },
        "id": "IuDeGE0zW8PA",
        "outputId": "653eec94-4325-4b5a-fce9-5fd6da12b10e"
      },
      "execution_count": null,
      "outputs": [
        {
          "output_type": "stream",
          "name": "stdout",
          "text": [
            "23839\n",
            "Your OTP : 23839\n",
            "Successful\n",
            "Your Balance is 450\n"
          ]
        }
      ]
    },
    {
      "cell_type": "markdown",
      "source": [
        "# Homework Assignment"
      ],
      "metadata": {
        "id": "4ZxbCSHYYoC8"
      }
    },
    {
      "cell_type": "markdown",
      "source": [
        "Homework\n",
        "- Create class : Restaurant\n",
        "- minimum 5 methods\n",
        "  ลองไปคิด operation ของร้านอาหารดู เช่น รับแขกได้กี่คน มีเมนูอะไรบ้าง ราคาเท่าไหร่ รายได้เป็นยังไง"
      ],
      "metadata": {
        "id": "Yf0wHCf7YtPr"
      }
    },
    {
      "cell_type": "code",
      "source": [
        ""
      ],
      "metadata": {
        "id": "EK_P9WXgYrkF"
      },
      "execution_count": null,
      "outputs": []
    }
  ]
}